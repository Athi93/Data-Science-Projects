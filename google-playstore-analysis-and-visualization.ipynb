{
 "cells": [
  {
   "cell_type": "markdown",
   "metadata": {
    "_uuid": "9678e567443c1085f5fb2d58091bd5b39fcf5aa8"
   },
   "source": [
    "<center><h1 style=\"color:lightsalmon\"><b>Google Playstore Analysis and Visualization</b></hi></center>"
   ]
  },
  {
   "cell_type": "markdown",
   "metadata": {
    "_uuid": "3164f7bf9e85ebd584fcd6177137e2cb777696aa"
   },
   "source": [
    "### In this notebook, we are aiming to understand the trend of current Google Playstore market.  \n",
    "\n",
    "We are trying to create an analysis and visualization to interpret our findings on the Google Play Apps Dataset, available on Kaggle. This is my first ever project on Kaggle. So, pardon the errors and shortcomings that may come up in this notebook.\n",
    "\n",
    "Let us first look into the variables available in the dataset.\n",
    "\n",
    "\n",
    "------------------------------------------------------------------------------------------------------\n",
    "    "
   ]
  },
  {
   "cell_type": "markdown",
   "metadata": {
    "_uuid": "4db79a0c59d9fb74d2d6ccdd988814143a4015af"
   },
   "source": [
    "## Business Task\n",
    "\n",
    "We are on a venture to find out how many times an app will be downloaded based on the Google Play Apps Data set.This Dataset gives information about the Ratings, Reviews, Size, Genre etc of an app. We are here to find out which of this variable have an undenibale effect and influence of the app being published on the Google Play store."
   ]
  },
  {
   "cell_type": "code",
   "execution_count": 1,
   "metadata": {
    "_uuid": "dc8c2c9f05dba0022539075580fd31e3d213f6c8",
    "execution": {
     "iopub.execute_input": "2021-06-06T21:42:26.711431Z",
     "iopub.status.busy": "2021-06-06T21:42:26.711148Z",
     "iopub.status.idle": "2021-06-06T21:42:27.514554Z",
     "shell.execute_reply": "2021-06-06T21:42:27.513938Z",
     "shell.execute_reply.started": "2021-06-06T21:42:26.711373Z"
    }
   },
   "outputs": [],
   "source": [
    "#importing required packages\n",
    "import pandas as pd\n",
    "import seaborn as sns\n",
    "import matplotlib.pyplot as plt\n",
    "import warnings\n",
    "import numpy as np\n",
    "warnings.filterwarnings(\"ignore\")\n",
    "%matplotlib inline\n",
    "sns.set(style=\"whitegrid\")\n",
    "import missingno as msno\n",
    "#Interactive\n",
    "from IPython.core.interactiveshell import InteractiveShell\n",
    "InteractiveShell.ast_node_interactivity = \"all\"\n",
    "from IPython.display import display, HTML"
   ]
  },
  {
   "cell_type": "markdown",
   "metadata": {
    "_uuid": "302c2fc889dfccb9f704329245cddfafa7ea7177"
   },
   "source": [
    "## Description of Dataset"
   ]
  },
  {
   "cell_type": "markdown",
   "metadata": {
    "_uuid": "2aaf25ab942d9e91735dc5238c3ef7d55200cd03"
   },
   "source": [
    "<h3>We are using a csv file \"googleplaystore.csv\", available on Kaggle.  \n",
    "Before getting into actual EDA, we will familiarize with the variables :- </h3> \n",
    "\n",
    "    1) App :- Name of the App\n",
    "    2) Category :- Category under which the App falls.\n",
    "    3) Rating :- Application's rating on playstore\n",
    "    4) Reviews :- Number of reviews of the App.\n",
    "    5) Size :- Size of the App.\n",
    "    6) Install :- Number of Installs of the App\n",
    "    7) Type :- If the App is free/paid\n",
    "    8) Price :- Price of the app (0 if it is Free)\n",
    "    9) Content Rating :- Appropiate Target Audience of the App.\n",
    "    10) Genres:- Genre under which the App falls.\n",
    "    11) Last Updated :- Date when the App was last updated\n",
    "    12) Current Ver :- Current Version of the Application\n",
    "    13) Android Ver :- Minimum Android Version required to run the App\n"
   ]
  },
  {
   "cell_type": "markdown",
   "metadata": {},
   "source": [
    "First step is to Load the data"
   ]
  },
  {
   "cell_type": "code",
   "execution_count": 2,
   "metadata": {
    "_uuid": "d274a6f3a038c893111c89aa1fd5a9233fc5ce6f",
    "execution": {
     "iopub.execute_input": "2021-06-06T21:42:28.449838Z",
     "iopub.status.busy": "2021-06-06T21:42:28.449532Z",
     "iopub.status.idle": "2021-06-06T21:42:28.568561Z",
     "shell.execute_reply": "2021-06-06T21:42:28.567957Z",
     "shell.execute_reply.started": "2021-06-06T21:42:28.449785Z"
    }
   },
   "outputs": [
    {
     "name": "stdout",
     "output_type": "stream",
     "text": [
      "\n",
      " First 5 rows in our dataset\n"
     ]
    },
    {
     "data": {
      "text/html": [
       "<div>\n",
       "<style scoped>\n",
       "    .dataframe tbody tr th:only-of-type {\n",
       "        vertical-align: middle;\n",
       "    }\n",
       "\n",
       "    .dataframe tbody tr th {\n",
       "        vertical-align: top;\n",
       "    }\n",
       "\n",
       "    .dataframe thead th {\n",
       "        text-align: right;\n",
       "    }\n",
       "</style>\n",
       "<table border=\"1\" class=\"dataframe\">\n",
       "  <thead>\n",
       "    <tr style=\"text-align: right;\">\n",
       "      <th></th>\n",
       "      <th>App</th>\n",
       "      <th>Category</th>\n",
       "      <th>Rating</th>\n",
       "      <th>Reviews</th>\n",
       "      <th>Size</th>\n",
       "      <th>Installs</th>\n",
       "      <th>Type</th>\n",
       "      <th>Price</th>\n",
       "      <th>Content Rating</th>\n",
       "      <th>Genres</th>\n",
       "      <th>Last Updated</th>\n",
       "      <th>Current Ver</th>\n",
       "      <th>Android Ver</th>\n",
       "    </tr>\n",
       "  </thead>\n",
       "  <tbody>\n",
       "    <tr>\n",
       "      <th>0</th>\n",
       "      <td>Photo Editor &amp; Candy Camera &amp; Grid &amp; ScrapBook</td>\n",
       "      <td>ART_AND_DESIGN</td>\n",
       "      <td>4.1</td>\n",
       "      <td>159</td>\n",
       "      <td>19M</td>\n",
       "      <td>10,000+</td>\n",
       "      <td>Free</td>\n",
       "      <td>0</td>\n",
       "      <td>Everyone</td>\n",
       "      <td>Art &amp; Design</td>\n",
       "      <td>January 7, 2018</td>\n",
       "      <td>1.0.0</td>\n",
       "      <td>4.0.3 and up</td>\n",
       "    </tr>\n",
       "    <tr>\n",
       "      <th>1</th>\n",
       "      <td>Coloring book moana</td>\n",
       "      <td>ART_AND_DESIGN</td>\n",
       "      <td>3.9</td>\n",
       "      <td>967</td>\n",
       "      <td>14M</td>\n",
       "      <td>500,000+</td>\n",
       "      <td>Free</td>\n",
       "      <td>0</td>\n",
       "      <td>Everyone</td>\n",
       "      <td>Art &amp; Design;Pretend Play</td>\n",
       "      <td>January 15, 2018</td>\n",
       "      <td>2.0.0</td>\n",
       "      <td>4.0.3 and up</td>\n",
       "    </tr>\n",
       "    <tr>\n",
       "      <th>2</th>\n",
       "      <td>U Launcher Lite – FREE Live Cool Themes, Hide ...</td>\n",
       "      <td>ART_AND_DESIGN</td>\n",
       "      <td>4.7</td>\n",
       "      <td>87510</td>\n",
       "      <td>8.7M</td>\n",
       "      <td>5,000,000+</td>\n",
       "      <td>Free</td>\n",
       "      <td>0</td>\n",
       "      <td>Everyone</td>\n",
       "      <td>Art &amp; Design</td>\n",
       "      <td>August 1, 2018</td>\n",
       "      <td>1.2.4</td>\n",
       "      <td>4.0.3 and up</td>\n",
       "    </tr>\n",
       "    <tr>\n",
       "      <th>3</th>\n",
       "      <td>Sketch - Draw &amp; Paint</td>\n",
       "      <td>ART_AND_DESIGN</td>\n",
       "      <td>4.5</td>\n",
       "      <td>215644</td>\n",
       "      <td>25M</td>\n",
       "      <td>50,000,000+</td>\n",
       "      <td>Free</td>\n",
       "      <td>0</td>\n",
       "      <td>Teen</td>\n",
       "      <td>Art &amp; Design</td>\n",
       "      <td>June 8, 2018</td>\n",
       "      <td>Varies with device</td>\n",
       "      <td>4.2 and up</td>\n",
       "    </tr>\n",
       "    <tr>\n",
       "      <th>4</th>\n",
       "      <td>Pixel Draw - Number Art Coloring Book</td>\n",
       "      <td>ART_AND_DESIGN</td>\n",
       "      <td>4.3</td>\n",
       "      <td>967</td>\n",
       "      <td>2.8M</td>\n",
       "      <td>100,000+</td>\n",
       "      <td>Free</td>\n",
       "      <td>0</td>\n",
       "      <td>Everyone</td>\n",
       "      <td>Art &amp; Design;Creativity</td>\n",
       "      <td>June 20, 2018</td>\n",
       "      <td>1.1</td>\n",
       "      <td>4.4 and up</td>\n",
       "    </tr>\n",
       "  </tbody>\n",
       "</table>\n",
       "</div>"
      ],
      "text/plain": [
       "                                                 App        Category  Rating  \\\n",
       "0     Photo Editor & Candy Camera & Grid & ScrapBook  ART_AND_DESIGN     4.1   \n",
       "1                                Coloring book moana  ART_AND_DESIGN     3.9   \n",
       "2  U Launcher Lite – FREE Live Cool Themes, Hide ...  ART_AND_DESIGN     4.7   \n",
       "3                              Sketch - Draw & Paint  ART_AND_DESIGN     4.5   \n",
       "4              Pixel Draw - Number Art Coloring Book  ART_AND_DESIGN     4.3   \n",
       "\n",
       "  Reviews  Size     Installs  Type Price Content Rating  \\\n",
       "0     159   19M      10,000+  Free     0       Everyone   \n",
       "1     967   14M     500,000+  Free     0       Everyone   \n",
       "2   87510  8.7M   5,000,000+  Free     0       Everyone   \n",
       "3  215644   25M  50,000,000+  Free     0           Teen   \n",
       "4     967  2.8M     100,000+  Free     0       Everyone   \n",
       "\n",
       "                      Genres      Last Updated         Current Ver  \\\n",
       "0               Art & Design   January 7, 2018               1.0.0   \n",
       "1  Art & Design;Pretend Play  January 15, 2018               2.0.0   \n",
       "2               Art & Design    August 1, 2018               1.2.4   \n",
       "3               Art & Design      June 8, 2018  Varies with device   \n",
       "4    Art & Design;Creativity     June 20, 2018                 1.1   \n",
       "\n",
       "    Android Ver  \n",
       "0  4.0.3 and up  \n",
       "1  4.0.3 and up  \n",
       "2  4.0.3 and up  \n",
       "3    4.2 and up  \n",
       "4    4.4 and up  "
      ]
     },
     "metadata": {},
     "output_type": "display_data"
    },
    {
     "name": "stdout",
     "output_type": "stream",
     "text": [
      "\n",
      " Number of rows in the dataset = 10841\n"
     ]
    }
   ],
   "source": [
    "#Reading data\n",
    "googledata = pd.read_csv(\"../input/googleplaystore.csv\")\n",
    "\n",
    "print(\"\\n First 5 rows in our dataset\")\n",
    "display(googledata.head())\n",
    "\n",
    "print(\"\\n Number of rows in the dataset = \" + str(googledata.shape[0]))"
   ]
  },
  {
   "cell_type": "markdown",
   "metadata": {
    "_uuid": "b58cd2a963ae337e7703825d4cf96422cb33bd17"
   },
   "source": [
    "### Features Engineering  \n",
    "\n",
    "Our target variable is <b><i>'Installs'</i></b>\n",
    "As we can see from the above snippet of the csv file, the  Genres and Category columns are somewhat same. So we are dropping the Genres column as Category column is easier to analyze.\n",
    "\n",
    "Before getting into the Analysis and Visualization part, we need to first ensure that the format of our our data is ready to be analyzed.\n",
    "    "
   ]
  },
  {
   "cell_type": "code",
   "execution_count": 3,
   "metadata": {
    "execution": {
     "iopub.execute_input": "2021-06-06T21:42:29.342677Z",
     "iopub.status.busy": "2021-06-06T21:42:29.342390Z",
     "iopub.status.idle": "2021-06-06T21:42:29.366608Z",
     "shell.execute_reply": "2021-06-06T21:42:29.365988Z",
     "shell.execute_reply.started": "2021-06-06T21:42:29.342628Z"
    }
   },
   "outputs": [
    {
     "name": "stdout",
     "output_type": "stream",
     "text": [
      "<class 'pandas.core.frame.DataFrame'>\n",
      "RangeIndex: 10841 entries, 0 to 10840\n",
      "Data columns (total 13 columns):\n",
      "App               10841 non-null object\n",
      "Category          10841 non-null object\n",
      "Rating            9367 non-null float64\n",
      "Reviews           10841 non-null object\n",
      "Size              10841 non-null object\n",
      "Installs          10841 non-null object\n",
      "Type              10840 non-null object\n",
      "Price             10841 non-null object\n",
      "Content Rating    10840 non-null object\n",
      "Genres            10841 non-null object\n",
      "Last Updated      10841 non-null object\n",
      "Current Ver       10833 non-null object\n",
      "Android Ver       10838 non-null object\n",
      "dtypes: float64(1), object(12)\n",
      "memory usage: 1.1+ MB\n"
     ]
    }
   ],
   "source": [
    "\n",
    "googledata.info()"
   ]
  },
  {
   "cell_type": "code",
   "execution_count": 4,
   "metadata": {
    "execution": {
     "iopub.execute_input": "2021-06-06T21:42:29.817940Z",
     "iopub.status.busy": "2021-06-06T21:42:29.817678Z",
     "iopub.status.idle": "2021-06-06T21:42:29.915885Z",
     "shell.execute_reply": "2021-06-06T21:42:29.915288Z",
     "shell.execute_reply.started": "2021-06-06T21:42:29.817893Z"
    }
   },
   "outputs": [
    {
     "data": {
      "text/html": [
       "<div>\n",
       "<style scoped>\n",
       "    .dataframe tbody tr th:only-of-type {\n",
       "        vertical-align: middle;\n",
       "    }\n",
       "\n",
       "    .dataframe tbody tr th {\n",
       "        vertical-align: top;\n",
       "    }\n",
       "\n",
       "    .dataframe thead th {\n",
       "        text-align: right;\n",
       "    }\n",
       "</style>\n",
       "<table border=\"1\" class=\"dataframe\">\n",
       "  <thead>\n",
       "    <tr style=\"text-align: right;\">\n",
       "      <th></th>\n",
       "      <th>App</th>\n",
       "      <th>Category</th>\n",
       "      <th>Rating</th>\n",
       "      <th>Reviews</th>\n",
       "      <th>Size</th>\n",
       "      <th>Installs</th>\n",
       "      <th>Type</th>\n",
       "      <th>Price</th>\n",
       "      <th>Content Rating</th>\n",
       "      <th>Genres</th>\n",
       "      <th>Last Updated</th>\n",
       "      <th>Current Ver</th>\n",
       "      <th>Android Ver</th>\n",
       "    </tr>\n",
       "  </thead>\n",
       "  <tbody>\n",
       "    <tr>\n",
       "      <th>count</th>\n",
       "      <td>10841</td>\n",
       "      <td>10841</td>\n",
       "      <td>9367.000000</td>\n",
       "      <td>10841</td>\n",
       "      <td>10841</td>\n",
       "      <td>10841</td>\n",
       "      <td>10840</td>\n",
       "      <td>10841</td>\n",
       "      <td>10840</td>\n",
       "      <td>10841</td>\n",
       "      <td>10841</td>\n",
       "      <td>10833</td>\n",
       "      <td>10838</td>\n",
       "    </tr>\n",
       "    <tr>\n",
       "      <th>unique</th>\n",
       "      <td>9660</td>\n",
       "      <td>34</td>\n",
       "      <td>NaN</td>\n",
       "      <td>6002</td>\n",
       "      <td>462</td>\n",
       "      <td>22</td>\n",
       "      <td>3</td>\n",
       "      <td>93</td>\n",
       "      <td>6</td>\n",
       "      <td>120</td>\n",
       "      <td>1378</td>\n",
       "      <td>2832</td>\n",
       "      <td>33</td>\n",
       "    </tr>\n",
       "    <tr>\n",
       "      <th>top</th>\n",
       "      <td>ROBLOX</td>\n",
       "      <td>FAMILY</td>\n",
       "      <td>NaN</td>\n",
       "      <td>0</td>\n",
       "      <td>Varies with device</td>\n",
       "      <td>1,000,000+</td>\n",
       "      <td>Free</td>\n",
       "      <td>0</td>\n",
       "      <td>Everyone</td>\n",
       "      <td>Tools</td>\n",
       "      <td>August 3, 2018</td>\n",
       "      <td>Varies with device</td>\n",
       "      <td>4.1 and up</td>\n",
       "    </tr>\n",
       "    <tr>\n",
       "      <th>freq</th>\n",
       "      <td>9</td>\n",
       "      <td>1972</td>\n",
       "      <td>NaN</td>\n",
       "      <td>596</td>\n",
       "      <td>1695</td>\n",
       "      <td>1579</td>\n",
       "      <td>10039</td>\n",
       "      <td>10040</td>\n",
       "      <td>8714</td>\n",
       "      <td>842</td>\n",
       "      <td>326</td>\n",
       "      <td>1459</td>\n",
       "      <td>2451</td>\n",
       "    </tr>\n",
       "    <tr>\n",
       "      <th>mean</th>\n",
       "      <td>NaN</td>\n",
       "      <td>NaN</td>\n",
       "      <td>4.193338</td>\n",
       "      <td>NaN</td>\n",
       "      <td>NaN</td>\n",
       "      <td>NaN</td>\n",
       "      <td>NaN</td>\n",
       "      <td>NaN</td>\n",
       "      <td>NaN</td>\n",
       "      <td>NaN</td>\n",
       "      <td>NaN</td>\n",
       "      <td>NaN</td>\n",
       "      <td>NaN</td>\n",
       "    </tr>\n",
       "    <tr>\n",
       "      <th>std</th>\n",
       "      <td>NaN</td>\n",
       "      <td>NaN</td>\n",
       "      <td>0.537431</td>\n",
       "      <td>NaN</td>\n",
       "      <td>NaN</td>\n",
       "      <td>NaN</td>\n",
       "      <td>NaN</td>\n",
       "      <td>NaN</td>\n",
       "      <td>NaN</td>\n",
       "      <td>NaN</td>\n",
       "      <td>NaN</td>\n",
       "      <td>NaN</td>\n",
       "      <td>NaN</td>\n",
       "    </tr>\n",
       "    <tr>\n",
       "      <th>min</th>\n",
       "      <td>NaN</td>\n",
       "      <td>NaN</td>\n",
       "      <td>1.000000</td>\n",
       "      <td>NaN</td>\n",
       "      <td>NaN</td>\n",
       "      <td>NaN</td>\n",
       "      <td>NaN</td>\n",
       "      <td>NaN</td>\n",
       "      <td>NaN</td>\n",
       "      <td>NaN</td>\n",
       "      <td>NaN</td>\n",
       "      <td>NaN</td>\n",
       "      <td>NaN</td>\n",
       "    </tr>\n",
       "    <tr>\n",
       "      <th>25%</th>\n",
       "      <td>NaN</td>\n",
       "      <td>NaN</td>\n",
       "      <td>4.000000</td>\n",
       "      <td>NaN</td>\n",
       "      <td>NaN</td>\n",
       "      <td>NaN</td>\n",
       "      <td>NaN</td>\n",
       "      <td>NaN</td>\n",
       "      <td>NaN</td>\n",
       "      <td>NaN</td>\n",
       "      <td>NaN</td>\n",
       "      <td>NaN</td>\n",
       "      <td>NaN</td>\n",
       "    </tr>\n",
       "    <tr>\n",
       "      <th>50%</th>\n",
       "      <td>NaN</td>\n",
       "      <td>NaN</td>\n",
       "      <td>4.300000</td>\n",
       "      <td>NaN</td>\n",
       "      <td>NaN</td>\n",
       "      <td>NaN</td>\n",
       "      <td>NaN</td>\n",
       "      <td>NaN</td>\n",
       "      <td>NaN</td>\n",
       "      <td>NaN</td>\n",
       "      <td>NaN</td>\n",
       "      <td>NaN</td>\n",
       "      <td>NaN</td>\n",
       "    </tr>\n",
       "    <tr>\n",
       "      <th>75%</th>\n",
       "      <td>NaN</td>\n",
       "      <td>NaN</td>\n",
       "      <td>4.500000</td>\n",
       "      <td>NaN</td>\n",
       "      <td>NaN</td>\n",
       "      <td>NaN</td>\n",
       "      <td>NaN</td>\n",
       "      <td>NaN</td>\n",
       "      <td>NaN</td>\n",
       "      <td>NaN</td>\n",
       "      <td>NaN</td>\n",
       "      <td>NaN</td>\n",
       "      <td>NaN</td>\n",
       "    </tr>\n",
       "    <tr>\n",
       "      <th>max</th>\n",
       "      <td>NaN</td>\n",
       "      <td>NaN</td>\n",
       "      <td>19.000000</td>\n",
       "      <td>NaN</td>\n",
       "      <td>NaN</td>\n",
       "      <td>NaN</td>\n",
       "      <td>NaN</td>\n",
       "      <td>NaN</td>\n",
       "      <td>NaN</td>\n",
       "      <td>NaN</td>\n",
       "      <td>NaN</td>\n",
       "      <td>NaN</td>\n",
       "      <td>NaN</td>\n",
       "    </tr>\n",
       "  </tbody>\n",
       "</table>\n",
       "</div>"
      ],
      "text/plain": [
       "           App Category       Rating Reviews                Size    Installs  \\\n",
       "count    10841    10841  9367.000000   10841               10841       10841   \n",
       "unique    9660       34          NaN    6002                 462          22   \n",
       "top     ROBLOX   FAMILY          NaN       0  Varies with device  1,000,000+   \n",
       "freq         9     1972          NaN     596                1695        1579   \n",
       "mean       NaN      NaN     4.193338     NaN                 NaN         NaN   \n",
       "std        NaN      NaN     0.537431     NaN                 NaN         NaN   \n",
       "min        NaN      NaN     1.000000     NaN                 NaN         NaN   \n",
       "25%        NaN      NaN     4.000000     NaN                 NaN         NaN   \n",
       "50%        NaN      NaN     4.300000     NaN                 NaN         NaN   \n",
       "75%        NaN      NaN     4.500000     NaN                 NaN         NaN   \n",
       "max        NaN      NaN    19.000000     NaN                 NaN         NaN   \n",
       "\n",
       "         Type  Price Content Rating Genres    Last Updated  \\\n",
       "count   10840  10841          10840  10841           10841   \n",
       "unique      3     93              6    120            1378   \n",
       "top      Free      0       Everyone  Tools  August 3, 2018   \n",
       "freq    10039  10040           8714    842             326   \n",
       "mean      NaN    NaN            NaN    NaN             NaN   \n",
       "std       NaN    NaN            NaN    NaN             NaN   \n",
       "min       NaN    NaN            NaN    NaN             NaN   \n",
       "25%       NaN    NaN            NaN    NaN             NaN   \n",
       "50%       NaN    NaN            NaN    NaN             NaN   \n",
       "75%       NaN    NaN            NaN    NaN             NaN   \n",
       "max       NaN    NaN            NaN    NaN             NaN   \n",
       "\n",
       "               Current Ver Android Ver  \n",
       "count                10833       10838  \n",
       "unique                2832          33  \n",
       "top     Varies with device  4.1 and up  \n",
       "freq                  1459        2451  \n",
       "mean                   NaN         NaN  \n",
       "std                    NaN         NaN  \n",
       "min                    NaN         NaN  \n",
       "25%                    NaN         NaN  \n",
       "50%                    NaN         NaN  \n",
       "75%                    NaN         NaN  \n",
       "max                    NaN         NaN  "
      ]
     },
     "execution_count": 4,
     "metadata": {},
     "output_type": "execute_result"
    }
   ],
   "source": [
    "googledata.describe(include='all')"
   ]
  },
  {
   "cell_type": "markdown",
   "metadata": {},
   "source": [
    "### Data Cleaning"
   ]
  },
  {
   "cell_type": "code",
   "execution_count": 5,
   "metadata": {
    "execution": {
     "iopub.execute_input": "2021-06-06T21:42:30.757588Z",
     "iopub.status.busy": "2021-06-06T21:42:30.757294Z",
     "iopub.status.idle": "2021-06-06T21:42:30.766840Z",
     "shell.execute_reply": "2021-06-06T21:42:30.765852Z",
     "shell.execute_reply.started": "2021-06-06T21:42:30.757536Z"
    }
   },
   "outputs": [],
   "source": [
    "# dropping the unwanted Genres column\n",
    "googledata.drop(\"Genres\",axis=1, inplace=True)"
   ]
  },
  {
   "cell_type": "code",
   "execution_count": 6,
   "metadata": {
    "execution": {
     "iopub.execute_input": "2021-06-06T21:42:31.229915Z",
     "iopub.status.busy": "2021-06-06T21:42:31.229608Z",
     "iopub.status.idle": "2021-06-06T21:42:31.311545Z",
     "shell.execute_reply": "2021-06-06T21:42:31.310916Z",
     "shell.execute_reply.started": "2021-06-06T21:42:31.229866Z"
    }
   },
   "outputs": [],
   "source": [
    "# separating Last Updated column into 2 different columns and then dropping LAst Updated column\n",
    "googledata[['Date','Year']] = googledata[\"Last Updated\"].str.split(\",\",expand=True)\n",
    "googledata.drop(\"Last Updated\", axis=1, inplace=True)\n",
    "\n",
    "# Removing the special characters from the Install column \n",
    "googledata['Install1'] = googledata[\"Installs\"].str.replace('+','')\n",
    "googledata['Install']=googledata['Install1'].str.replace(',','')\n",
    "googledata.Size = [x.strip().replace('M', '') for x in googledata.Size]\n",
    "googledata.Size = [x.strip().replace('k', '') for x in googledata.Size]\n",
    "\n",
    "\n",
    "#dropping all the ewxtra columns that were created on the way\n",
    "googledata.drop(\"Installs\",axis=1, inplace =True)\n",
    "googledata.drop(\"Install1\",axis=1, inplace =True)\n"
   ]
  },
  {
   "cell_type": "code",
   "execution_count": 7,
   "metadata": {
    "_uuid": "07926ebb90fa4b2280ee8efa17c30966d91e43e5",
    "execution": {
     "iopub.execute_input": "2021-06-06T21:42:31.659601Z",
     "iopub.status.busy": "2021-06-06T21:42:31.659331Z",
     "iopub.status.idle": "2021-06-06T21:42:31.680307Z",
     "shell.execute_reply": "2021-06-06T21:42:31.679522Z",
     "shell.execute_reply.started": "2021-06-06T21:42:31.659552Z"
    }
   },
   "outputs": [
    {
     "data": {
      "text/html": [
       "<div>\n",
       "<style scoped>\n",
       "    .dataframe tbody tr th:only-of-type {\n",
       "        vertical-align: middle;\n",
       "    }\n",
       "\n",
       "    .dataframe tbody tr th {\n",
       "        vertical-align: top;\n",
       "    }\n",
       "\n",
       "    .dataframe thead th {\n",
       "        text-align: right;\n",
       "    }\n",
       "</style>\n",
       "<table border=\"1\" class=\"dataframe\">\n",
       "  <thead>\n",
       "    <tr style=\"text-align: right;\">\n",
       "      <th></th>\n",
       "      <th>App</th>\n",
       "      <th>Category</th>\n",
       "      <th>Rating</th>\n",
       "      <th>Reviews</th>\n",
       "      <th>Size</th>\n",
       "      <th>Type</th>\n",
       "      <th>Price</th>\n",
       "      <th>Content Rating</th>\n",
       "      <th>Current Ver</th>\n",
       "      <th>Android Ver</th>\n",
       "      <th>Date</th>\n",
       "      <th>Year</th>\n",
       "      <th>Install</th>\n",
       "    </tr>\n",
       "  </thead>\n",
       "  <tbody>\n",
       "    <tr>\n",
       "      <th>0</th>\n",
       "      <td>Photo Editor &amp; Candy Camera &amp; Grid &amp; ScrapBook</td>\n",
       "      <td>ART_AND_DESIGN</td>\n",
       "      <td>4.1</td>\n",
       "      <td>159</td>\n",
       "      <td>19</td>\n",
       "      <td>Free</td>\n",
       "      <td>0</td>\n",
       "      <td>Everyone</td>\n",
       "      <td>1.0.0</td>\n",
       "      <td>4.0.3 and up</td>\n",
       "      <td>January 7</td>\n",
       "      <td>2018</td>\n",
       "      <td>10000</td>\n",
       "    </tr>\n",
       "    <tr>\n",
       "      <th>1</th>\n",
       "      <td>Coloring book moana</td>\n",
       "      <td>ART_AND_DESIGN</td>\n",
       "      <td>3.9</td>\n",
       "      <td>967</td>\n",
       "      <td>14</td>\n",
       "      <td>Free</td>\n",
       "      <td>0</td>\n",
       "      <td>Everyone</td>\n",
       "      <td>2.0.0</td>\n",
       "      <td>4.0.3 and up</td>\n",
       "      <td>January 15</td>\n",
       "      <td>2018</td>\n",
       "      <td>500000</td>\n",
       "    </tr>\n",
       "    <tr>\n",
       "      <th>2</th>\n",
       "      <td>U Launcher Lite – FREE Live Cool Themes, Hide ...</td>\n",
       "      <td>ART_AND_DESIGN</td>\n",
       "      <td>4.7</td>\n",
       "      <td>87510</td>\n",
       "      <td>8.7</td>\n",
       "      <td>Free</td>\n",
       "      <td>0</td>\n",
       "      <td>Everyone</td>\n",
       "      <td>1.2.4</td>\n",
       "      <td>4.0.3 and up</td>\n",
       "      <td>August 1</td>\n",
       "      <td>2018</td>\n",
       "      <td>5000000</td>\n",
       "    </tr>\n",
       "    <tr>\n",
       "      <th>3</th>\n",
       "      <td>Sketch - Draw &amp; Paint</td>\n",
       "      <td>ART_AND_DESIGN</td>\n",
       "      <td>4.5</td>\n",
       "      <td>215644</td>\n",
       "      <td>25</td>\n",
       "      <td>Free</td>\n",
       "      <td>0</td>\n",
       "      <td>Teen</td>\n",
       "      <td>Varies with device</td>\n",
       "      <td>4.2 and up</td>\n",
       "      <td>June 8</td>\n",
       "      <td>2018</td>\n",
       "      <td>50000000</td>\n",
       "    </tr>\n",
       "    <tr>\n",
       "      <th>4</th>\n",
       "      <td>Pixel Draw - Number Art Coloring Book</td>\n",
       "      <td>ART_AND_DESIGN</td>\n",
       "      <td>4.3</td>\n",
       "      <td>967</td>\n",
       "      <td>2.8</td>\n",
       "      <td>Free</td>\n",
       "      <td>0</td>\n",
       "      <td>Everyone</td>\n",
       "      <td>1.1</td>\n",
       "      <td>4.4 and up</td>\n",
       "      <td>June 20</td>\n",
       "      <td>2018</td>\n",
       "      <td>100000</td>\n",
       "    </tr>\n",
       "    <tr>\n",
       "      <th>5</th>\n",
       "      <td>Paper flowers instructions</td>\n",
       "      <td>ART_AND_DESIGN</td>\n",
       "      <td>4.4</td>\n",
       "      <td>167</td>\n",
       "      <td>5.6</td>\n",
       "      <td>Free</td>\n",
       "      <td>0</td>\n",
       "      <td>Everyone</td>\n",
       "      <td>1.0</td>\n",
       "      <td>2.3 and up</td>\n",
       "      <td>March 26</td>\n",
       "      <td>2017</td>\n",
       "      <td>50000</td>\n",
       "    </tr>\n",
       "    <tr>\n",
       "      <th>6</th>\n",
       "      <td>Smoke Effect Photo Maker - Smoke Editor</td>\n",
       "      <td>ART_AND_DESIGN</td>\n",
       "      <td>3.8</td>\n",
       "      <td>178</td>\n",
       "      <td>19</td>\n",
       "      <td>Free</td>\n",
       "      <td>0</td>\n",
       "      <td>Everyone</td>\n",
       "      <td>1.1</td>\n",
       "      <td>4.0.3 and up</td>\n",
       "      <td>April 26</td>\n",
       "      <td>2018</td>\n",
       "      <td>50000</td>\n",
       "    </tr>\n",
       "  </tbody>\n",
       "</table>\n",
       "</div>"
      ],
      "text/plain": [
       "                                                 App        Category  Rating  \\\n",
       "0     Photo Editor & Candy Camera & Grid & ScrapBook  ART_AND_DESIGN     4.1   \n",
       "1                                Coloring book moana  ART_AND_DESIGN     3.9   \n",
       "2  U Launcher Lite – FREE Live Cool Themes, Hide ...  ART_AND_DESIGN     4.7   \n",
       "3                              Sketch - Draw & Paint  ART_AND_DESIGN     4.5   \n",
       "4              Pixel Draw - Number Art Coloring Book  ART_AND_DESIGN     4.3   \n",
       "5                         Paper flowers instructions  ART_AND_DESIGN     4.4   \n",
       "6            Smoke Effect Photo Maker - Smoke Editor  ART_AND_DESIGN     3.8   \n",
       "\n",
       "  Reviews Size  Type Price Content Rating         Current Ver   Android Ver  \\\n",
       "0     159   19  Free     0       Everyone               1.0.0  4.0.3 and up   \n",
       "1     967   14  Free     0       Everyone               2.0.0  4.0.3 and up   \n",
       "2   87510  8.7  Free     0       Everyone               1.2.4  4.0.3 and up   \n",
       "3  215644   25  Free     0           Teen  Varies with device    4.2 and up   \n",
       "4     967  2.8  Free     0       Everyone                 1.1    4.4 and up   \n",
       "5     167  5.6  Free     0       Everyone                 1.0    2.3 and up   \n",
       "6     178   19  Free     0       Everyone                 1.1  4.0.3 and up   \n",
       "\n",
       "         Date   Year   Install  \n",
       "0   January 7   2018     10000  \n",
       "1  January 15   2018    500000  \n",
       "2    August 1   2018   5000000  \n",
       "3      June 8   2018  50000000  \n",
       "4     June 20   2018    100000  \n",
       "5    March 26   2017     50000  \n",
       "6    April 26   2018     50000  "
      ]
     },
     "execution_count": 7,
     "metadata": {},
     "output_type": "execute_result"
    }
   ],
   "source": [
    "googledata.head(7)"
   ]
  },
  {
   "cell_type": "markdown",
   "metadata": {},
   "source": [
    "### Missing Values"
   ]
  },
  {
   "cell_type": "markdown",
   "metadata": {},
   "source": [
    "Next, we need to deal with the missing values in the data to be able to analyze it.\n",
    "\n",
    "One of the main steps in data preprocessing is handling missing data. Missing data means absence of observations in columns that can be caused while procuring the data, lack of information, incomplete results etc.\n",
    "\n",
    "Feeding missing data to your machine learning model could lead to wrong prediction or classification. Hence it is necessary to identify missing values and treat them"
   ]
  },
  {
   "cell_type": "code",
   "execution_count": 8,
   "metadata": {
    "execution": {
     "iopub.execute_input": "2021-06-06T21:42:33.070752Z",
     "iopub.status.busy": "2021-06-06T21:42:33.070447Z",
     "iopub.status.idle": "2021-06-06T21:42:33.089360Z",
     "shell.execute_reply": "2021-06-06T21:42:33.088602Z",
     "shell.execute_reply.started": "2021-06-06T21:42:33.070676Z"
    }
   },
   "outputs": [
    {
     "data": {
      "text/plain": [
       "App                  0\n",
       "Category             0\n",
       "Rating            1474\n",
       "Reviews              0\n",
       "Size                 0\n",
       "Type                 1\n",
       "Price                0\n",
       "Content Rating       1\n",
       "Current Ver          8\n",
       "Android Ver          3\n",
       "Date                 0\n",
       "Year                 1\n",
       "Install              0\n",
       "dtype: int64"
      ]
     },
     "execution_count": 8,
     "metadata": {},
     "output_type": "execute_result"
    }
   ],
   "source": [
    "googledata.isnull().sum()"
   ]
  },
  {
   "cell_type": "markdown",
   "metadata": {},
   "source": [
    "The given dataset is a pretty clean dataset. But this might not be the case always as you can often encounter missing values represented as NaN values in the data.\n",
    "\n",
    "There are two methods of dealing with missing data:\n",
    "- Dropping them\n",
    "- Imputing them.\n",
    "Depending on the case we can allow a specific proportion of missing values, beyond which we might want to drop the variable from analysis. But this varies from case to case on the amount of information you think the variable has. \n",
    "\n",
    "If the information contained in the variable is not that high, you can drop the variable if it has more than 50% missing values. There are projects / models where imputation of even 20 - 30% missing values provided better results - the famous Titanic dataset on Kaggle being one such case. Age is missing in ~20% of cases, but you benefit by imputing them rather than ignoring the variable."
   ]
  },
  {
   "cell_type": "markdown",
   "metadata": {},
   "source": [
    "We can see that out of our 10000 rows, almost 1500 of the rows have null values in place of Ratings. Hence we are taking the mean of the Rating column and filling up the null values.\n",
    "\n",
    "In case of other variables like, Type, Android Ver etc, the number of null values are too negligible that one can either drop it or fill it. I am just using a fillna command with forward fill to remove null values in the rest of the columns."
   ]
  },
  {
   "cell_type": "code",
   "execution_count": 9,
   "metadata": {
    "execution": {
     "iopub.execute_input": "2021-06-06T21:42:34.389353Z",
     "iopub.status.busy": "2021-06-06T21:42:34.389078Z",
     "iopub.status.idle": "2021-06-06T21:42:34.413268Z",
     "shell.execute_reply": "2021-06-06T21:42:34.412596Z",
     "shell.execute_reply.started": "2021-06-06T21:42:34.389306Z"
    }
   },
   "outputs": [],
   "source": [
    "#Rating column\n",
    "googledata['Rating'].fillna(googledata['Rating'].mean(),inplace=True)\n",
    "\n",
    "# Current Version\n",
    "googledata['Current Ver'].fillna(method='ffill',inplace=True)\n",
    "\n",
    "#Androi Version\n",
    "googledata['Android Ver'].fillna(method='ffill',inplace=True)\n",
    "\n",
    "# Type\n",
    "googledata['Type'].fillna(method='ffill',inplace=True)\n",
    "\n",
    "#Content Rating\n",
    "googledata['Content Rating'].fillna(method='ffill',inplace=True)\n",
    "\n",
    "#Year\n",
    "googledata['Year'].fillna(method='ffill',inplace=True)"
   ]
  },
  {
   "cell_type": "code",
   "execution_count": 10,
   "metadata": {
    "execution": {
     "iopub.execute_input": "2021-06-06T21:42:34.871432Z",
     "iopub.status.busy": "2021-06-06T21:42:34.871149Z",
     "iopub.status.idle": "2021-06-06T21:42:34.890324Z",
     "shell.execute_reply": "2021-06-06T21:42:34.889398Z",
     "shell.execute_reply.started": "2021-06-06T21:42:34.871370Z"
    }
   },
   "outputs": [
    {
     "data": {
      "text/plain": [
       "App               0\n",
       "Category          0\n",
       "Rating            0\n",
       "Reviews           0\n",
       "Size              0\n",
       "Type              0\n",
       "Price             0\n",
       "Content Rating    0\n",
       "Current Ver       0\n",
       "Android Ver       0\n",
       "Date              0\n",
       "Year              0\n",
       "Install           0\n",
       "dtype: int64"
      ]
     },
     "execution_count": 10,
     "metadata": {},
     "output_type": "execute_result"
    }
   ],
   "source": [
    "googledata.isnull().sum()"
   ]
  },
  {
   "cell_type": "markdown",
   "metadata": {},
   "source": [
    "On studying the dataset further, it was found that there was a data with some kind of weird anomaly. Let us find out the row in the data and purge it."
   ]
  },
  {
   "cell_type": "code",
   "execution_count": 11,
   "metadata": {
    "execution": {
     "iopub.execute_input": "2021-06-06T21:42:35.791538Z",
     "iopub.status.busy": "2021-06-06T21:42:35.791247Z",
     "iopub.status.idle": "2021-06-06T21:42:35.797324Z",
     "shell.execute_reply": "2021-06-06T21:42:35.796510Z",
     "shell.execute_reply.started": "2021-06-06T21:42:35.791485Z"
    }
   },
   "outputs": [
    {
     "data": {
      "text/plain": [
       "19.0"
      ]
     },
     "execution_count": 11,
     "metadata": {},
     "output_type": "execute_result"
    }
   ],
   "source": [
    "googledata['Rating'].max()"
   ]
  },
  {
   "cell_type": "code",
   "execution_count": 12,
   "metadata": {
    "execution": {
     "iopub.execute_input": "2021-06-06T21:42:36.261207Z",
     "iopub.status.busy": "2021-06-06T21:42:36.260946Z",
     "iopub.status.idle": "2021-06-06T21:42:36.279117Z",
     "shell.execute_reply": "2021-06-06T21:42:36.278358Z",
     "shell.execute_reply.started": "2021-06-06T21:42:36.261159Z"
    }
   },
   "outputs": [
    {
     "data": {
      "text/html": [
       "<div>\n",
       "<style scoped>\n",
       "    .dataframe tbody tr th:only-of-type {\n",
       "        vertical-align: middle;\n",
       "    }\n",
       "\n",
       "    .dataframe tbody tr th {\n",
       "        vertical-align: top;\n",
       "    }\n",
       "\n",
       "    .dataframe thead th {\n",
       "        text-align: right;\n",
       "    }\n",
       "</style>\n",
       "<table border=\"1\" class=\"dataframe\">\n",
       "  <thead>\n",
       "    <tr style=\"text-align: right;\">\n",
       "      <th></th>\n",
       "      <th>App</th>\n",
       "      <th>Category</th>\n",
       "      <th>Rating</th>\n",
       "      <th>Reviews</th>\n",
       "      <th>Size</th>\n",
       "      <th>Type</th>\n",
       "      <th>Price</th>\n",
       "      <th>Content Rating</th>\n",
       "      <th>Current Ver</th>\n",
       "      <th>Android Ver</th>\n",
       "      <th>Date</th>\n",
       "      <th>Year</th>\n",
       "      <th>Install</th>\n",
       "    </tr>\n",
       "  </thead>\n",
       "  <tbody>\n",
       "    <tr>\n",
       "      <th>10472</th>\n",
       "      <td>Life Made WI-Fi Touchscreen Photo Frame</td>\n",
       "      <td>1.9</td>\n",
       "      <td>19.0</td>\n",
       "      <td>3.0M</td>\n",
       "      <td>1,000+</td>\n",
       "      <td>0</td>\n",
       "      <td>Everyone</td>\n",
       "      <td>Everyone</td>\n",
       "      <td>4.0 and up</td>\n",
       "      <td>4.0.3 and up</td>\n",
       "      <td>1.0.19</td>\n",
       "      <td>2014</td>\n",
       "      <td>Free</td>\n",
       "    </tr>\n",
       "  </tbody>\n",
       "</table>\n",
       "</div>"
      ],
      "text/plain": [
       "                                           App Category  Rating Reviews  \\\n",
       "10472  Life Made WI-Fi Touchscreen Photo Frame      1.9    19.0    3.0M   \n",
       "\n",
       "         Size Type     Price Content Rating Current Ver   Android Ver    Date  \\\n",
       "10472  1,000+    0  Everyone       Everyone  4.0 and up  4.0.3 and up  1.0.19   \n",
       "\n",
       "        Year Install  \n",
       "10472   2014    Free  "
      ]
     },
     "execution_count": 12,
     "metadata": {},
     "output_type": "execute_result"
    }
   ],
   "source": [
    "googledata[googledata['Rating'] == 19.0]"
   ]
  },
  {
   "cell_type": "markdown",
   "metadata": {},
   "source": [
    "We see that this entry of our dataset is having a Rating of 19.0 which is way higher than the maximum rating of 5.0. Also, The value in the Reviews column has an alphabet which makes it a lone entry to have so. Hence we are removing this particular row to make our analysis easier. "
   ]
  },
  {
   "cell_type": "code",
   "execution_count": 13,
   "metadata": {
    "execution": {
     "iopub.execute_input": "2021-06-06T21:42:37.517401Z",
     "iopub.status.busy": "2021-06-06T21:42:37.517128Z",
     "iopub.status.idle": "2021-06-06T21:42:37.524230Z",
     "shell.execute_reply": "2021-06-06T21:42:37.523336Z",
     "shell.execute_reply.started": "2021-06-06T21:42:37.517354Z"
    }
   },
   "outputs": [],
   "source": [
    "googledata.drop([10472],inplace=True)"
   ]
  },
  {
   "cell_type": "markdown",
   "metadata": {},
   "source": [
    "Now let us convert some of the categorical variables into numerical for ease of analysis."
   ]
  },
  {
   "cell_type": "code",
   "execution_count": 14,
   "metadata": {
    "execution": {
     "iopub.execute_input": "2021-06-06T21:42:38.377381Z",
     "iopub.status.busy": "2021-06-06T21:42:38.377100Z",
     "iopub.status.idle": "2021-06-06T21:42:38.440774Z",
     "shell.execute_reply": "2021-06-06T21:42:38.440138Z",
     "shell.execute_reply.started": "2021-06-06T21:42:38.377330Z"
    }
   },
   "outputs": [],
   "source": [
    "googledata[\"Reviews\"]= googledata.Reviews.apply(lambda x: int(x))\n",
    "googledata[\"Rating\"]= googledata.Reviews.apply(lambda x: int(x))\n",
    "googledata[\"Year\"]= googledata.Year.apply(lambda x: int(x))\n",
    "googledata[\"Price\"]= googledata.Price.apply(lambda x: str(x).replace(\"$\",\"\"))\n",
    "googledata[\"Price\"] = googledata.Price.apply(lambda x: float(x))\n",
    "googledata[\"Size\"] = googledata[\"Size\"].apply(lambda x: float(x) if x != \"Varies with device\" else str(x))\n",
    "\n",
    "googledata['Install']= [int(x) if x.isnumeric() else x for x in googledata['Install']]"
   ]
  },
  {
   "cell_type": "code",
   "execution_count": 15,
   "metadata": {
    "execution": {
     "iopub.execute_input": "2021-06-06T21:42:38.823762Z",
     "iopub.status.busy": "2021-06-06T21:42:38.823470Z",
     "iopub.status.idle": "2021-06-06T21:42:38.832040Z",
     "shell.execute_reply": "2021-06-06T21:42:38.831226Z",
     "shell.execute_reply.started": "2021-06-06T21:42:38.823692Z"
    }
   },
   "outputs": [
    {
     "data": {
      "text/plain": [
       "App                object\n",
       "Category           object\n",
       "Rating              int64\n",
       "Reviews             int64\n",
       "Size               object\n",
       "Type               object\n",
       "Price             float64\n",
       "Content Rating     object\n",
       "Current Ver        object\n",
       "Android Ver        object\n",
       "Date               object\n",
       "Year                int64\n",
       "Install             int64\n",
       "dtype: object"
      ]
     },
     "execution_count": 15,
     "metadata": {},
     "output_type": "execute_result"
    }
   ],
   "source": [
    "googledata.dtypes"
   ]
  },
  {
   "cell_type": "markdown",
   "metadata": {},
   "source": [
    "### Numerical And Categorical Columns"
   ]
  },
  {
   "cell_type": "markdown",
   "metadata": {},
   "source": [
    "Looking at the dataset, we think we can identify the categorical and continuous columns in it. Right? But it might also be possible that the numerical values are represented as strings in some feature. Or the categorical values in some features might be represented as some other datatypes instead of strings. Hence it's good to check for the datatypes of all the feature"
   ]
  },
  {
   "cell_type": "code",
   "execution_count": 16,
   "metadata": {
    "execution": {
     "iopub.execute_input": "2021-06-06T21:42:40.112541Z",
     "iopub.status.busy": "2021-06-06T21:42:40.112241Z",
     "iopub.status.idle": "2021-06-06T21:42:40.128554Z",
     "shell.execute_reply": "2021-06-06T21:42:40.127746Z",
     "shell.execute_reply.started": "2021-06-06T21:42:40.112490Z"
    }
   },
   "outputs": [
    {
     "name": "stdout",
     "output_type": "stream",
     "text": [
      "Numeric Features:\n",
      "   Rating  Reviews  Price  Year   Install\n",
      "0     159      159    0.0  2018     10000\n",
      "1     967      967    0.0  2018    500000\n",
      "2   87510    87510    0.0  2018   5000000\n",
      "3  215644   215644    0.0  2018  50000000\n",
      "4     967      967    0.0  2018    100000\n"
     ]
    }
   ],
   "source": [
    "# IDENTIFYING NUMERICAL FEATURES\n",
    "\n",
    "numeric_data = googledata.select_dtypes(include=np.number) # select_dtypes selects data with numeric features\n",
    "numeric_col = numeric_data.columns                                                                \n",
    "\n",
    "# we will store the numeric features in a variable\n",
    "\n",
    "print(\"Numeric Features:\")\n",
    "print(numeric_data.head())"
   ]
  },
  {
   "cell_type": "code",
   "execution_count": 17,
   "metadata": {
    "execution": {
     "iopub.execute_input": "2021-06-06T21:42:40.456542Z",
     "iopub.status.busy": "2021-06-06T21:42:40.456270Z",
     "iopub.status.idle": "2021-06-06T21:42:40.470623Z",
     "shell.execute_reply": "2021-06-06T21:42:40.469930Z",
     "shell.execute_reply.started": "2021-06-06T21:42:40.456495Z"
    }
   },
   "outputs": [
    {
     "name": "stdout",
     "output_type": "stream",
     "text": [
      "Numeric Features:\n",
      "                                                 App        Category Size  \\\n",
      "0     Photo Editor & Candy Camera & Grid & ScrapBook  ART_AND_DESIGN   19   \n",
      "1                                Coloring book moana  ART_AND_DESIGN   14   \n",
      "2  U Launcher Lite – FREE Live Cool Themes, Hide ...  ART_AND_DESIGN  8.7   \n",
      "3                              Sketch - Draw & Paint  ART_AND_DESIGN   25   \n",
      "4              Pixel Draw - Number Art Coloring Book  ART_AND_DESIGN  2.8   \n",
      "\n",
      "   Type Content Rating         Current Ver   Android Ver        Date  \n",
      "0  Free       Everyone               1.0.0  4.0.3 and up   January 7  \n",
      "1  Free       Everyone               2.0.0  4.0.3 and up  January 15  \n",
      "2  Free       Everyone               1.2.4  4.0.3 and up    August 1  \n",
      "3  Free           Teen  Varies with device    4.2 and up      June 8  \n",
      "4  Free       Everyone                 1.1    4.4 and up     June 20  \n"
     ]
    }
   ],
   "source": [
    "# IDENTIFYING CATEGORICAL FEATURES\n",
    "\n",
    "cat_data = googledata.select_dtypes(exclude=np.number) # select_dtypes selects data with numeric features\n",
    "cat_col = cat_data.columns                                                                \n",
    "\n",
    "# we will store the numeric features in a variable\n",
    "\n",
    "print(\"Numeric Features:\")\n",
    "print(cat_data.head())"
   ]
  },
  {
   "cell_type": "code",
   "execution_count": 18,
   "metadata": {
    "execution": {
     "iopub.execute_input": "2021-06-06T21:42:40.928826Z",
     "iopub.status.busy": "2021-06-06T21:42:40.928542Z",
     "iopub.status.idle": "2021-06-06T21:42:40.964092Z",
     "shell.execute_reply": "2021-06-06T21:42:40.962854Z",
     "shell.execute_reply.started": "2021-06-06T21:42:40.928776Z"
    }
   },
   "outputs": [
    {
     "name": "stdout",
     "output_type": "stream",
     "text": [
      "1000000       14.566421\n",
      "10000000      11.549815\n",
      "100000        10.784133\n",
      "10000          9.723247\n",
      "1000           8.367159\n",
      "5000000        6.937269\n",
      "100            6.632841\n",
      "500000         4.972325\n",
      "50000          4.418819\n",
      "5000           4.400369\n",
      "100000000      3.773063\n",
      "10             3.560886\n",
      "500            3.044280\n",
      "50000000       2.666052\n",
      "50             1.891144\n",
      "5              0.756458\n",
      "500000000      0.664207\n",
      "1              0.618081\n",
      "1000000000     0.535055\n",
      "0              0.138376\n",
      "Name: Install, dtype: float64\n"
     ]
    }
   ],
   "source": [
    "class_values = (googledata['Install'].value_counts()/googledata['Install'].value_counts().sum())*100\n",
    "print(class_values)"
   ]
  },
  {
   "cell_type": "markdown",
   "metadata": {},
   "source": [
    "## Visualization"
   ]
  },
  {
   "cell_type": "markdown",
   "metadata": {},
   "source": [
    "Now that all the null values are removed, columns are split appropriately and unwanted columns are dropped, let us now move on to actually analyzing each variable and whether or not, our target variable, <b><i>Install</i></b> is dependent on it. Also, we can plot the inferred dependencies."
   ]
  },
  {
   "cell_type": "code",
   "execution_count": 19,
   "metadata": {
    "execution": {
     "iopub.execute_input": "2021-06-06T21:42:43.603249Z",
     "iopub.status.busy": "2021-06-06T21:42:43.602947Z",
     "iopub.status.idle": "2021-06-06T21:42:43.944158Z",
     "shell.execute_reply": "2021-06-06T21:42:43.943331Z",
     "shell.execute_reply.started": "2021-06-06T21:42:43.603196Z"
    }
   },
   "outputs": [
    {
     "data": {
      "image/png": "[encoded data removed]",
      "text/plain": [
       "<matplotlib.figure.Figure at 0x7fccafa50390>"
      ]
     },
     "metadata": {},
     "output_type": "display_data"
    },
    {
     "data": {
      "text/html": [
       "<div>\n",
       "<style scoped>\n",
       "    .dataframe tbody tr th:only-of-type {\n",
       "        vertical-align: middle;\n",
       "    }\n",
       "\n",
       "    .dataframe tbody tr th {\n",
       "        vertical-align: top;\n",
       "    }\n",
       "\n",
       "    .dataframe thead th {\n",
       "        text-align: right;\n",
       "    }\n",
       "</style>\n",
       "<table border=\"1\" class=\"dataframe\">\n",
       "  <thead>\n",
       "    <tr style=\"text-align: right;\">\n",
       "      <th></th>\n",
       "      <th>Category</th>\n",
       "      <th>Count</th>\n",
       "    </tr>\n",
       "  </thead>\n",
       "  <tbody>\n",
       "    <tr>\n",
       "      <th>11</th>\n",
       "      <td>FAMILY</td>\n",
       "      <td>1972</td>\n",
       "    </tr>\n",
       "    <tr>\n",
       "      <th>14</th>\n",
       "      <td>GAME</td>\n",
       "      <td>1144</td>\n",
       "    </tr>\n",
       "    <tr>\n",
       "      <th>29</th>\n",
       "      <td>TOOLS</td>\n",
       "      <td>843</td>\n",
       "    </tr>\n",
       "    <tr>\n",
       "      <th>20</th>\n",
       "      <td>MEDICAL</td>\n",
       "      <td>463</td>\n",
       "    </tr>\n",
       "    <tr>\n",
       "      <th>4</th>\n",
       "      <td>BUSINESS</td>\n",
       "      <td>460</td>\n",
       "    </tr>\n",
       "  </tbody>\n",
       "</table>\n",
       "</div>"
      ],
      "text/plain": [
       "    Category  Count\n",
       "11    FAMILY   1972\n",
       "14      GAME   1144\n",
       "29     TOOLS    843\n",
       "20   MEDICAL    463\n",
       "4   BUSINESS    460"
      ]
     },
     "metadata": {},
     "output_type": "display_data"
    }
   ],
   "source": [
    "#Number of categories of apps in the store.\n",
    "def plot_number_category():\n",
    "    fig, ax = plt.subplots()\n",
    "    fig.set_size_inches(15, 7)\n",
    "    fig.autofmt_xdate()\n",
    "    countplot=sns.categorical.countplot(googledata.Category,ax=ax)\n",
    "    plt.xticks(rotation = 90)\n",
    "    plt.show(countplot)\n",
    "\n",
    "plot_number_category()\n",
    "\n",
    "# Tabular representation\n",
    "top_cat=googledata.groupby('Category').size().reset_index(name='Count').nlargest(5,'Count')\n",
    "display(top_cat)\n"
   ]
  },
  {
   "cell_type": "markdown",
   "metadata": {
    "_uuid": "b7bdca1e0a71bb1e8a6ef0b77b4fe032894e7c39"
   },
   "source": [
    "This shows that the top most category is <b>Family</b> followed by Games, Tools, Medical and Business"
   ]
  },
  {
   "cell_type": "code",
   "execution_count": 20,
   "metadata": {
    "execution": {
     "iopub.execute_input": "2021-06-06T21:42:44.660787Z",
     "iopub.status.busy": "2021-06-06T21:42:44.660497Z",
     "iopub.status.idle": "2021-06-06T21:42:44.673930Z",
     "shell.execute_reply": "2021-06-06T21:42:44.673269Z",
     "shell.execute_reply.started": "2021-06-06T21:42:44.660737Z"
    }
   },
   "outputs": [],
   "source": [
    "top5_cat = top_cat['Category'].tolist()\n",
    "data_top5 = googledata.groupby('Category')['Install'].agg('sum').loc[top5_cat].reset_index(name='Number_Installations')\n",
    "data =  googledata.groupby('Category')['Install'].agg('sum').reset_index(name='Number_Installations')"
   ]
  },
  {
   "cell_type": "code",
   "execution_count": 21,
   "metadata": {
    "execution": {
     "iopub.execute_input": "2021-06-06T21:42:45.066817Z",
     "iopub.status.busy": "2021-06-06T21:42:45.066441Z",
     "iopub.status.idle": "2021-06-06T21:42:45.210267Z",
     "shell.execute_reply": "2021-06-06T21:42:45.209608Z",
     "shell.execute_reply.started": "2021-06-06T21:42:45.066754Z"
    }
   },
   "outputs": [
    {
     "data": {
      "image/png": "[encoded data removed]",
      "text/plain": [
       "<matplotlib.figure.Figure at 0x7fccafcaf550>"
      ]
     },
     "metadata": {},
     "output_type": "display_data"
    }
   ],
   "source": [
    "fig = plt.figure(figsize=(10,5))\n",
    "title=plt.title('Comparing top 5 category on the basis of Installs')\n",
    "bar=sns.barplot(y=data_top5['Category'],x=data_top5['Number_Installations'])\n",
    "plt.show(bar)"
   ]
  },
  {
   "cell_type": "code",
   "execution_count": 22,
   "metadata": {
    "execution": {
     "iopub.execute_input": "2021-06-06T21:42:45.520093Z",
     "iopub.status.busy": "2021-06-06T21:42:45.519825Z",
     "iopub.status.idle": "2021-06-06T21:42:45.877109Z",
     "shell.execute_reply": "2021-06-06T21:42:45.876439Z",
     "shell.execute_reply.started": "2021-06-06T21:42:45.520047Z"
    }
   },
   "outputs": [
    {
     "data": {
      "text/plain": [
       "<matplotlib.figure.Figure at 0x7fccc21c3278>"
      ]
     },
     "execution_count": 22,
     "metadata": {},
     "output_type": "execute_result"
    },
    {
     "data": {
      "text/plain": [
       "Text(0.5,1,'Comparing all categories to Install')"
      ]
     },
     "execution_count": 22,
     "metadata": {},
     "output_type": "execute_result"
    },
    {
     "data": {
      "text/plain": [
       "<matplotlib.axes._subplots.AxesSubplot at 0x7fccc21c3160>"
      ]
     },
     "execution_count": 22,
     "metadata": {},
     "output_type": "execute_result"
    },
    {
     "data": {
      "image/png": "[encoded data removed]",
      "text/plain": [
       "<matplotlib.figure.Figure at 0x7fccc21c3278>"
      ]
     },
     "metadata": {},
     "output_type": "display_data"
    }
   ],
   "source": [
    "plt.figure(figsize=(15,15))\n",
    "plt.title(\"Comparing all categories to Install\")\n",
    "sns.barplot(y=data[\"Category\"],x=data['Number_Installations'])\n",
    "plt.show(bar)"
   ]
  },
  {
   "cell_type": "code",
   "execution_count": 23,
   "metadata": {
    "execution": {
     "iopub.execute_input": "2021-06-06T21:42:46.252911Z",
     "iopub.status.busy": "2021-06-06T21:42:46.252629Z",
     "iopub.status.idle": "2021-06-06T21:42:46.381280Z",
     "shell.execute_reply": "2021-06-06T21:42:46.380498Z",
     "shell.execute_reply.started": "2021-06-06T21:42:46.252865Z"
    }
   },
   "outputs": [
    {
     "data": {
      "text/plain": [
       "<matplotlib.figure.Figure at 0x7fccaa82c198>"
      ]
     },
     "execution_count": 23,
     "metadata": {},
     "output_type": "execute_result"
    },
    {
     "data": {
      "text/plain": [
       "<matplotlib.axes._subplots.AxesSubplot at 0x7fccafcbccc0>"
      ]
     },
     "execution_count": 23,
     "metadata": {},
     "output_type": "execute_result"
    },
    {
     "data": {
      "image/png": "[encoded data removed]",
      "text/plain": [
       "<matplotlib.figure.Figure at 0x7fccaa82c198>"
      ]
     },
     "metadata": {},
     "output_type": "display_data"
    }
   ],
   "source": [
    "data_cont =  googledata.groupby('Content Rating')['Install'].agg('sum').reset_index(name='Number_Installations')\n",
    "plt.figure(figsize=(10,5))\n",
    "sns.barplot(x=data_cont['Content Rating'], y=data_cont['Number_Installations'])\n",
    "plt.show()"
   ]
  },
  {
   "cell_type": "code",
   "execution_count": 24,
   "metadata": {
    "execution": {
     "iopub.execute_input": "2021-06-06T21:42:46.862250Z",
     "iopub.status.busy": "2021-06-06T21:42:46.861973Z",
     "iopub.status.idle": "2021-06-06T21:42:47.063836Z",
     "shell.execute_reply": "2021-06-06T21:42:47.063048Z",
     "shell.execute_reply.started": "2021-06-06T21:42:46.862201Z"
    }
   },
   "outputs": [
    {
     "data": {
      "text/plain": [
       "<matplotlib.figure.Figure at 0x7fccaface588>"
      ]
     },
     "execution_count": 24,
     "metadata": {},
     "output_type": "execute_result"
    },
    {
     "data": {
      "text/plain": [
       "<matplotlib.axes._subplots.AxesSubplot at 0x7fccaa881518>"
      ]
     },
     "execution_count": 24,
     "metadata": {},
     "output_type": "execute_result"
    },
    {
     "data": {
      "image/png": "[encoded data removed]",
      "text/plain": [
       "<matplotlib.figure.Figure at 0x7fccaface588>"
      ]
     },
     "metadata": {},
     "output_type": "display_data"
    }
   ],
   "source": [
    "data_cont =  googledata.groupby('Content Rating')['Install'].agg('sum').reset_index(name='Number_Installations')\n",
    "plt.figure(figsize=(10,5))\n",
    "sns.barplot(x=data_cont['Content Rating'], y=data_cont['Number_Installations'])\n",
    "plt.show()"
   ]
  },
  {
   "cell_type": "code",
   "execution_count": 25,
   "metadata": {
    "execution": {
     "iopub.execute_input": "2021-06-06T21:42:47.410736Z",
     "iopub.status.busy": "2021-06-06T21:42:47.410473Z",
     "iopub.status.idle": "2021-06-06T21:42:47.572782Z",
     "shell.execute_reply": "2021-06-06T21:42:47.572013Z",
     "shell.execute_reply.started": "2021-06-06T21:42:47.410673Z"
    }
   },
   "outputs": [
    {
     "data": {
      "text/plain": [
       "<matplotlib.figure.Figure at 0x7fccafa648d0>"
      ]
     },
     "execution_count": 25,
     "metadata": {},
     "output_type": "execute_result"
    },
    {
     "data": {
      "text/plain": [
       "<matplotlib.axes._subplots.AxesSubplot at 0x7fccafa78c88>"
      ]
     },
     "execution_count": 25,
     "metadata": {},
     "output_type": "execute_result"
    },
    {
     "data": {
      "image/png": "[encoded data removed]",
      "text/plain": [
       "<matplotlib.figure.Figure at 0x7fccafa648d0>"
      ]
     },
     "metadata": {},
     "output_type": "display_data"
    }
   ],
   "source": [
    "top_app = googledata.groupby('App').size().reset_index(name='Count').nlargest(5,'Count')\n",
    "top5_app = top_app['App'].tolist()\n",
    "data_app = googledata.groupby('App')['Install'].agg('sum').loc[top5_app].reset_index(name='Number_Installations')\n",
    "plt.figure(figsize=(10,5))\n",
    "sns.barplot(x=data_app['Number_Installations'], y=data_app['App'])\n",
    "plt.show()"
   ]
  },
  {
   "cell_type": "code",
   "execution_count": 26,
   "metadata": {
    "execution": {
     "iopub.execute_input": "2021-06-06T21:42:47.995076Z",
     "iopub.status.busy": "2021-06-06T21:42:47.994811Z",
     "iopub.status.idle": "2021-06-06T21:42:48.067922Z",
     "shell.execute_reply": "2021-06-06T21:42:48.067304Z",
     "shell.execute_reply.started": "2021-06-06T21:42:47.995031Z"
    }
   },
   "outputs": [
    {
     "data": {
      "text/plain": [
       "([<matplotlib.patches.Wedge at 0x7fccaa7c7668>,\n",
       "  <matplotlib.patches.Wedge at 0x7fccaa7c7d68>],\n",
       " [Text(-1.07057,0.252758,'Paid'), Text(1.07057,-0.252758,'free')],\n",
       " [Text(-0.583946,0.137868,'92.6%'), Text(0.583946,-0.137868,'7.4%')])"
      ]
     },
     "execution_count": 26,
     "metadata": {},
     "output_type": "execute_result"
    },
    {
     "data": {
      "image/png": "[encoded data removed]",
      "text/plain": [
       "<matplotlib.figure.Figure at 0x7fccaa8baac8>"
      ]
     },
     "metadata": {},
     "output_type": "display_data"
    }
   ],
   "source": [
    "x= googledata.Type.value_counts()\n",
    "label= [\"Paid\",\"free\"]\n",
    "mycolors = [\"hotpink\",\"black\"]\n",
    "plt.pie(x,labels= label,autopct= \"%1.1f%%\", colors = mycolors)\n",
    "plt.show()"
   ]
  },
  {
   "cell_type": "code",
   "execution_count": 27,
   "metadata": {
    "execution": {
     "iopub.execute_input": "2021-06-06T21:42:48.561197Z",
     "iopub.status.busy": "2021-06-06T21:42:48.560929Z",
     "iopub.status.idle": "2021-06-06T21:42:48.711182Z",
     "shell.execute_reply": "2021-06-06T21:42:48.710384Z",
     "shell.execute_reply.started": "2021-06-06T21:42:48.561150Z"
    }
   },
   "outputs": [
    {
     "data": {
      "text/plain": [
       "<matplotlib.axes._subplots.AxesSubplot at 0x7fccafd229b0>"
      ]
     },
     "execution_count": 27,
     "metadata": {},
     "output_type": "execute_result"
    },
    {
     "data": {
      "image/png": "[encoded data removed]",
      "text/plain": [
       "<matplotlib.figure.Figure at 0x7fccaa950b38>"
      ]
     },
     "metadata": {},
     "output_type": "display_data"
    }
   ],
   "source": [
    "x= googledata.groupby(\"App\").Install.sum().sort_values(ascending= False).head(10)\n",
    "sns.barplot(x.values,x.index)"
   ]
  },
  {
   "cell_type": "markdown",
   "metadata": {
    "_uuid": "b7b9ead8f6d9f601ea7e1e9a82211dc631b81fca"
   },
   "source": [
    "So, as the trend of the visualization goes, we can see that it can be a bit difficult to draw an inference from the analysis done. But, there is a small step that can be done to check the relation between the variables in our data. Let us look in to that next."
   ]
  },
  {
   "cell_type": "markdown",
   "metadata": {},
   "source": [
    "## Correlation\n",
    "\n",
    "<b>Correlation</b> is a statistical term describing the degree to which two variables move in coordination with one-another. Correlation coefficients are used to measure the strength of the linear relationship between two variables. There are different types of correlation:\n",
    "\n",
    "- If the two variables move in the same direction, then those variables are said to have a positive correlation. In this case, the correlation coefficient is greater than zero.\n",
    "- If they move in opposite directions, then they have a negative correlation. In this case, the correlation coefficient is less than zero.\n",
    "- In certain cases, the correlation coefficient is exactly zero. This means that there is no relation between the variables.\n",
    "\n",
    "The value of correlation coefficent varies anywhewre between 1 and -1. The closer the value is to 0, the weaker is the relation and the closer it is to 1 or -1, the stronger is the relation.\n"
   ]
  },
  {
   "cell_type": "code",
   "execution_count": 28,
   "metadata": {
    "execution": {
     "iopub.execute_input": "2021-06-06T21:42:50.277548Z",
     "iopub.status.busy": "2021-06-06T21:42:50.277272Z",
     "iopub.status.idle": "2021-06-06T21:42:50.415393Z",
     "shell.execute_reply": "2021-06-06T21:42:50.414638Z",
     "shell.execute_reply.started": "2021-06-06T21:42:50.277501Z"
    }
   },
   "outputs": [
    {
     "data": {
      "text/plain": [
       "<matplotlib.axes._subplots.AxesSubplot at 0x7fccaa70e550>"
      ]
     },
     "execution_count": 28,
     "metadata": {},
     "output_type": "execute_result"
    },
    {
     "data": {
      "image/png": "[encoded data removed]",
      "text/plain": [
       "<matplotlib.figure.Figure at 0x7fccaa6e5cf8>"
      ]
     },
     "metadata": {},
     "output_type": "display_data"
    }
   ],
   "source": [
    "correlation = numeric_data.corr() \n",
    "#The value 'numeric_data' is taken from above when we found out the numerical and categorical variables from the dataset \n",
    "#after the data type conversions\n",
    "\n",
    "colour = sns.color_palette(\"cubehelix\")\n",
    "sns.heatmap(correlation, cmap=colour)"
   ]
  },
  {
   "cell_type": "code",
   "execution_count": 29,
   "metadata": {
    "execution": {
     "iopub.execute_input": "2021-06-06T21:42:51.406406Z",
     "iopub.status.busy": "2021-06-06T21:42:51.406116Z",
     "iopub.status.idle": "2021-06-06T21:42:51.417793Z",
     "shell.execute_reply": "2021-06-06T21:42:51.416845Z",
     "shell.execute_reply.started": "2021-06-06T21:42:51.406357Z"
    }
   },
   "outputs": [
    {
     "data": {
      "text/html": [
       "<div>\n",
       "<style scoped>\n",
       "    .dataframe tbody tr th:only-of-type {\n",
       "        vertical-align: middle;\n",
       "    }\n",
       "\n",
       "    .dataframe tbody tr th {\n",
       "        vertical-align: top;\n",
       "    }\n",
       "\n",
       "    .dataframe thead th {\n",
       "        text-align: right;\n",
       "    }\n",
       "</style>\n",
       "<table border=\"1\" class=\"dataframe\">\n",
       "  <thead>\n",
       "    <tr style=\"text-align: right;\">\n",
       "      <th></th>\n",
       "      <th>Rating</th>\n",
       "      <th>Reviews</th>\n",
       "      <th>Price</th>\n",
       "      <th>Year</th>\n",
       "      <th>Install</th>\n",
       "    </tr>\n",
       "  </thead>\n",
       "  <tbody>\n",
       "    <tr>\n",
       "      <th>Rating</th>\n",
       "      <td>1.000000</td>\n",
       "      <td>1.000000</td>\n",
       "      <td>-0.009667</td>\n",
       "      <td>0.075537</td>\n",
       "      <td>0.643122</td>\n",
       "    </tr>\n",
       "    <tr>\n",
       "      <th>Reviews</th>\n",
       "      <td>1.000000</td>\n",
       "      <td>1.000000</td>\n",
       "      <td>-0.009667</td>\n",
       "      <td>0.075537</td>\n",
       "      <td>0.643122</td>\n",
       "    </tr>\n",
       "    <tr>\n",
       "      <th>Price</th>\n",
       "      <td>-0.009667</td>\n",
       "      <td>-0.009667</td>\n",
       "      <td>1.000000</td>\n",
       "      <td>-0.007897</td>\n",
       "      <td>-0.011689</td>\n",
       "    </tr>\n",
       "    <tr>\n",
       "      <th>Year</th>\n",
       "      <td>0.075537</td>\n",
       "      <td>0.075537</td>\n",
       "      <td>-0.007897</td>\n",
       "      <td>1.000000</td>\n",
       "      <td>0.089368</td>\n",
       "    </tr>\n",
       "    <tr>\n",
       "      <th>Install</th>\n",
       "      <td>0.643122</td>\n",
       "      <td>0.643122</td>\n",
       "      <td>-0.011689</td>\n",
       "      <td>0.089368</td>\n",
       "      <td>1.000000</td>\n",
       "    </tr>\n",
       "  </tbody>\n",
       "</table>\n",
       "</div>"
      ],
      "text/plain": [
       "           Rating   Reviews     Price      Year   Install\n",
       "Rating   1.000000  1.000000 -0.009667  0.075537  0.643122\n",
       "Reviews  1.000000  1.000000 -0.009667  0.075537  0.643122\n",
       "Price   -0.009667 -0.009667  1.000000 -0.007897 -0.011689\n",
       "Year     0.075537  0.075537 -0.007897  1.000000  0.089368\n",
       "Install  0.643122  0.643122 -0.011689  0.089368  1.000000"
      ]
     },
     "execution_count": 29,
     "metadata": {},
     "output_type": "execute_result"
    }
   ],
   "source": [
    "correlation"
   ]
  },
  {
   "cell_type": "markdown",
   "metadata": {},
   "source": [
    "Since the <b>Installs</b> is our target variable, we are looking only at teh correlation cofficient values between Install and other variables. Let us take a look at the values:\n",
    "\n",
    "- Year vs Install : 0.089368\n",
    "- Price vs Install : -0.011689\n",
    "- Reviews vs Install : 0.643122\n",
    "- Rating vs Install : 0.643122\n",
    "\n",
    "We can see that Year and Price do not have any significant impact on Install variable.\n",
    "But Reviews and Ratings do seem to have an impact on our target variable.\n"
   ]
  },
  {
   "cell_type": "markdown",
   "metadata": {},
   "source": [
    "Let us now check if categorical variables have an effect"
   ]
  },
  {
   "cell_type": "code",
   "execution_count": 30,
   "metadata": {
    "execution": {
     "iopub.execute_input": "2021-06-06T21:42:53.169369Z",
     "iopub.status.busy": "2021-06-06T21:42:53.169096Z",
     "iopub.status.idle": "2021-06-06T21:42:53.181404Z",
     "shell.execute_reply": "2021-06-06T21:42:53.180641Z",
     "shell.execute_reply.started": "2021-06-06T21:42:53.169322Z"
    }
   },
   "outputs": [],
   "source": [
    "#number of installations per Content rating\n",
    "install_sum_content = googledata.groupby('Content Rating')['Install'].agg('sum').reset_index(name='Number_Installations')\n",
    "\n",
    "# number of installations per app per content rating\n",
    "app_sum_content = googledata.groupby('Content Rating')['Install'].size().reset_index(name='Number_Apps')"
   ]
  },
  {
   "cell_type": "code",
   "execution_count": 31,
   "metadata": {
    "execution": {
     "iopub.execute_input": "2021-06-06T21:42:54.004782Z",
     "iopub.status.busy": "2021-06-06T21:42:54.004496Z",
     "iopub.status.idle": "2021-06-06T21:42:54.015565Z",
     "shell.execute_reply": "2021-06-06T21:42:54.014643Z",
     "shell.execute_reply.started": "2021-06-06T21:42:54.004732Z"
    }
   },
   "outputs": [
    {
     "data": {
      "text/html": [
       "<div>\n",
       "<style scoped>\n",
       "    .dataframe tbody tr th:only-of-type {\n",
       "        vertical-align: middle;\n",
       "    }\n",
       "\n",
       "    .dataframe tbody tr th {\n",
       "        vertical-align: top;\n",
       "    }\n",
       "\n",
       "    .dataframe thead th {\n",
       "        text-align: right;\n",
       "    }\n",
       "</style>\n",
       "<table border=\"1\" class=\"dataframe\">\n",
       "  <thead>\n",
       "    <tr style=\"text-align: right;\">\n",
       "      <th></th>\n",
       "      <th>Content Rating</th>\n",
       "      <th>Number_Installations</th>\n",
       "    </tr>\n",
       "  </thead>\n",
       "  <tbody>\n",
       "    <tr>\n",
       "      <th>0</th>\n",
       "      <td>Adults only 18+</td>\n",
       "      <td>2000000</td>\n",
       "    </tr>\n",
       "    <tr>\n",
       "      <th>1</th>\n",
       "      <td>Everyone</td>\n",
       "      <td>114156659621</td>\n",
       "    </tr>\n",
       "    <tr>\n",
       "      <th>2</th>\n",
       "      <td>Everyone 10+</td>\n",
       "      <td>13233881795</td>\n",
       "    </tr>\n",
       "    <tr>\n",
       "      <th>3</th>\n",
       "      <td>Mature 17+</td>\n",
       "      <td>5524491178</td>\n",
       "    </tr>\n",
       "    <tr>\n",
       "      <th>4</th>\n",
       "      <td>Teen</td>\n",
       "      <td>34716350393</td>\n",
       "    </tr>\n",
       "    <tr>\n",
       "      <th>5</th>\n",
       "      <td>Unrated</td>\n",
       "      <td>50500</td>\n",
       "    </tr>\n",
       "  </tbody>\n",
       "</table>\n",
       "</div>"
      ],
      "text/plain": [
       "    Content Rating  Number_Installations\n",
       "0  Adults only 18+               2000000\n",
       "1         Everyone          114156659621\n",
       "2     Everyone 10+           13233881795\n",
       "3       Mature 17+            5524491178\n",
       "4             Teen           34716350393\n",
       "5          Unrated                 50500"
      ]
     },
     "execution_count": 31,
     "metadata": {},
     "output_type": "execute_result"
    }
   ],
   "source": [
    "install_sum_content"
   ]
  },
  {
   "cell_type": "code",
   "execution_count": 32,
   "metadata": {
    "execution": {
     "iopub.execute_input": "2021-06-06T21:42:54.640000Z",
     "iopub.status.busy": "2021-06-06T21:42:54.639720Z",
     "iopub.status.idle": "2021-06-06T21:42:54.648211Z",
     "shell.execute_reply": "2021-06-06T21:42:54.647453Z",
     "shell.execute_reply.started": "2021-06-06T21:42:54.639948Z"
    }
   },
   "outputs": [
    {
     "data": {
      "text/html": [
       "<div>\n",
       "<style scoped>\n",
       "    .dataframe tbody tr th:only-of-type {\n",
       "        vertical-align: middle;\n",
       "    }\n",
       "\n",
       "    .dataframe tbody tr th {\n",
       "        vertical-align: top;\n",
       "    }\n",
       "\n",
       "    .dataframe thead th {\n",
       "        text-align: right;\n",
       "    }\n",
       "</style>\n",
       "<table border=\"1\" class=\"dataframe\">\n",
       "  <thead>\n",
       "    <tr style=\"text-align: right;\">\n",
       "      <th></th>\n",
       "      <th>Content Rating</th>\n",
       "      <th>Number_Apps</th>\n",
       "    </tr>\n",
       "  </thead>\n",
       "  <tbody>\n",
       "    <tr>\n",
       "      <th>0</th>\n",
       "      <td>Adults only 18+</td>\n",
       "      <td>3</td>\n",
       "    </tr>\n",
       "    <tr>\n",
       "      <th>1</th>\n",
       "      <td>Everyone</td>\n",
       "      <td>8714</td>\n",
       "    </tr>\n",
       "    <tr>\n",
       "      <th>2</th>\n",
       "      <td>Everyone 10+</td>\n",
       "      <td>414</td>\n",
       "    </tr>\n",
       "    <tr>\n",
       "      <th>3</th>\n",
       "      <td>Mature 17+</td>\n",
       "      <td>499</td>\n",
       "    </tr>\n",
       "    <tr>\n",
       "      <th>4</th>\n",
       "      <td>Teen</td>\n",
       "      <td>1208</td>\n",
       "    </tr>\n",
       "    <tr>\n",
       "      <th>5</th>\n",
       "      <td>Unrated</td>\n",
       "      <td>2</td>\n",
       "    </tr>\n",
       "  </tbody>\n",
       "</table>\n",
       "</div>"
      ],
      "text/plain": [
       "    Content Rating  Number_Apps\n",
       "0  Adults only 18+            3\n",
       "1         Everyone         8714\n",
       "2     Everyone 10+          414\n",
       "3       Mature 17+          499\n",
       "4             Teen         1208\n",
       "5          Unrated            2"
      ]
     },
     "execution_count": 32,
     "metadata": {},
     "output_type": "execute_result"
    }
   ],
   "source": [
    "app_sum_content"
   ]
  },
  {
   "cell_type": "code",
   "execution_count": 33,
   "metadata": {
    "execution": {
     "iopub.execute_input": "2021-06-06T21:42:55.373138Z",
     "iopub.status.busy": "2021-06-06T21:42:55.372851Z",
     "iopub.status.idle": "2021-06-06T21:42:55.522256Z",
     "shell.execute_reply": "2021-06-06T21:42:55.519600Z",
     "shell.execute_reply.started": "2021-06-06T21:42:55.373090Z"
    }
   },
   "outputs": [
    {
     "data": {
      "image/png": "[encoded data removed]",
      "text/plain": [
       "<matplotlib.figure.Figure at 0x7fccaa6c4f98>"
      ]
     },
     "metadata": {},
     "output_type": "display_data"
    }
   ],
   "source": [
    "fig=plt.figure(figsize=(12,6))\n",
    "    \n",
    "title=plt.title('Comparison of content ratings (Number of Installations)')\n",
    "content_bar = sns.barplot(x=install_sum_content['Content Rating'],y=install_sum_content['Number_Installations'])\n",
    "plt.show(content_bar)"
   ]
  },
  {
   "cell_type": "code",
   "execution_count": 34,
   "metadata": {
    "execution": {
     "iopub.execute_input": "2021-06-06T21:42:56.095898Z",
     "iopub.status.busy": "2021-06-06T21:42:56.095531Z",
     "iopub.status.idle": "2021-06-06T21:42:56.409727Z",
     "shell.execute_reply": "2021-06-06T21:42:56.408993Z",
     "shell.execute_reply.started": "2021-06-06T21:42:56.095847Z"
    }
   },
   "outputs": [
    {
     "data": {
      "image/png": "[encoded data removed]",
      "text/plain": [
       "<matplotlib.figure.Figure at 0x7fccaa5cac50>"
      ]
     },
     "metadata": {},
     "output_type": "display_data"
    }
   ],
   "source": [
    "fig=plt.figure(figsize=(12,6))\n",
    "title=plt.title('Comparision of content ratings (Number of Apps in Market)')\n",
    "content_bar = sns.barplot(x=app_sum_content['Content Rating'],y=app_sum_content['Number_Apps'])\n",
    "plt.show(content_bar) "
   ]
  },
  {
   "cell_type": "markdown",
   "metadata": {},
   "source": [
    "The above graphs depicts that there is a significant number of installations on content other than Everyone like Teens and Evryone 10+. SO let us know break it down and look for more information on this one."
   ]
  },
  {
   "cell_type": "code",
   "execution_count": 35,
   "metadata": {
    "_uuid": "20250f4c40e973afc2ae1ac3668ab52af3e8d798",
    "execution": {
     "iopub.execute_input": "2021-06-06T21:42:57.232450Z",
     "iopub.status.busy": "2021-06-06T21:42:57.232168Z",
     "iopub.status.idle": "2021-06-06T21:42:57.241265Z",
     "shell.execute_reply": "2021-06-06T21:42:57.240590Z",
     "shell.execute_reply.started": "2021-06-06T21:42:57.232396Z"
    }
   },
   "outputs": [],
   "source": [
    "#Temporary dataframe with improved comparision metric for content rating\n",
    "content=pd.DataFrame()\n",
    "content['Content Rating'] = app_sum_content['Content Rating']\n",
    "content['No_Installations/Total_Apps']=install_sum_content['Number_Installations']/app_sum_content['Number_Apps']"
   ]
  },
  {
   "cell_type": "code",
   "execution_count": 36,
   "metadata": {
    "execution": {
     "iopub.execute_input": "2021-06-06T21:42:57.761183Z",
     "iopub.status.busy": "2021-06-06T21:42:57.760917Z",
     "iopub.status.idle": "2021-06-06T21:42:57.769627Z",
     "shell.execute_reply": "2021-06-06T21:42:57.768953Z",
     "shell.execute_reply.started": "2021-06-06T21:42:57.761136Z"
    }
   },
   "outputs": [
    {
     "data": {
      "text/html": [
       "<div>\n",
       "<style scoped>\n",
       "    .dataframe tbody tr th:only-of-type {\n",
       "        vertical-align: middle;\n",
       "    }\n",
       "\n",
       "    .dataframe tbody tr th {\n",
       "        vertical-align: top;\n",
       "    }\n",
       "\n",
       "    .dataframe thead th {\n",
       "        text-align: right;\n",
       "    }\n",
       "</style>\n",
       "<table border=\"1\" class=\"dataframe\">\n",
       "  <thead>\n",
       "    <tr style=\"text-align: right;\">\n",
       "      <th></th>\n",
       "      <th>Content Rating</th>\n",
       "      <th>No_Installations/Total_Apps</th>\n",
       "    </tr>\n",
       "  </thead>\n",
       "  <tbody>\n",
       "    <tr>\n",
       "      <th>0</th>\n",
       "      <td>Adults only 18+</td>\n",
       "      <td>6.666667e+05</td>\n",
       "    </tr>\n",
       "    <tr>\n",
       "      <th>1</th>\n",
       "      <td>Everyone</td>\n",
       "      <td>1.310037e+07</td>\n",
       "    </tr>\n",
       "    <tr>\n",
       "      <th>2</th>\n",
       "      <td>Everyone 10+</td>\n",
       "      <td>3.196590e+07</td>\n",
       "    </tr>\n",
       "    <tr>\n",
       "      <th>3</th>\n",
       "      <td>Mature 17+</td>\n",
       "      <td>1.107112e+07</td>\n",
       "    </tr>\n",
       "    <tr>\n",
       "      <th>4</th>\n",
       "      <td>Teen</td>\n",
       "      <td>2.873870e+07</td>\n",
       "    </tr>\n",
       "    <tr>\n",
       "      <th>5</th>\n",
       "      <td>Unrated</td>\n",
       "      <td>2.525000e+04</td>\n",
       "    </tr>\n",
       "  </tbody>\n",
       "</table>\n",
       "</div>"
      ],
      "text/plain": [
       "    Content Rating  No_Installations/Total_Apps\n",
       "0  Adults only 18+                 6.666667e+05\n",
       "1         Everyone                 1.310037e+07\n",
       "2     Everyone 10+                 3.196590e+07\n",
       "3       Mature 17+                 1.107112e+07\n",
       "4             Teen                 2.873870e+07\n",
       "5          Unrated                 2.525000e+04"
      ]
     },
     "execution_count": 36,
     "metadata": {},
     "output_type": "execute_result"
    }
   ],
   "source": [
    "content"
   ]
  },
  {
   "cell_type": "code",
   "execution_count": 37,
   "metadata": {
    "_uuid": "146e041c0054c85f19e6c2fc5b7ba0deb265282b",
    "execution": {
     "iopub.execute_input": "2021-06-06T21:42:58.281589Z",
     "iopub.status.busy": "2021-06-06T21:42:58.281332Z",
     "iopub.status.idle": "2021-06-06T21:42:58.423419Z",
     "shell.execute_reply": "2021-06-06T21:42:58.422592Z",
     "shell.execute_reply.started": "2021-06-06T21:42:58.281545Z"
    }
   },
   "outputs": [
    {
     "data": {
      "image/png": "[encoded data removed]",
      "text/plain": [
       "<matplotlib.figure.Figure at 0x7fccaa589eb8>"
      ]
     },
     "metadata": {},
     "output_type": "display_data"
    }
   ],
   "source": [
    "#Visualize content\n",
    "figure=plt.figure(figsize=(12,7))\n",
    "title=plt.title('Content Rating Comparision')\n",
    "bar=sns.barplot(x=content['Content Rating'],y=content['No_Installations/Total_Apps'])\n",
    "plt.show(bar)"
   ]
  },
  {
   "cell_type": "markdown",
   "metadata": {},
   "source": [
    "Here we did a plot between the content rating and number of installations by total apps. We see that there are significant amoutn of installations. Hence, we can deduce that Content Rating too play an important part in predicting our Target variable, Install.\n",
    "\n",
    "Let us now try to find out if any variation in data is caused depending on whether the app is free or paid."
   ]
  },
  {
   "cell_type": "code",
   "execution_count": 38,
   "metadata": {
    "execution": {
     "iopub.execute_input": "2021-06-06T21:42:59.340761Z",
     "iopub.status.busy": "2021-06-06T21:42:59.340467Z",
     "iopub.status.idle": "2021-06-06T21:42:59.464163Z",
     "shell.execute_reply": "2021-06-06T21:42:59.463443Z",
     "shell.execute_reply.started": "2021-06-06T21:42:59.340693Z"
    }
   },
   "outputs": [
    {
     "data": {
      "image/png": "[encoded data removed]",
      "text/plain": [
       "<matplotlib.figure.Figure at 0x7fccafd15438>"
      ]
     },
     "metadata": {},
     "output_type": "display_data"
    }
   ],
   "source": [
    "install_sum_type = googledata.groupby('Type')['Install'].agg('sum').reset_index(name='Number_Installations')\n",
    "\n",
    "fig=plt.figure(figsize=(12,6))\n",
    "    \n",
    "title=plt.title('Comparison of  types (Number of Installations)')\n",
    "content_bar = sns.barplot(x=install_sum_type['Type'],y=install_sum_type['Number_Installations'])\n",
    "plt.show(content_bar)"
   ]
  },
  {
   "cell_type": "markdown",
   "metadata": {},
   "source": [
    "Here we can conclude that the variable 'Type' does not have any influence as most installed apps are free."
   ]
  },
  {
   "cell_type": "markdown",
   "metadata": {},
   "source": [
    "Lastly, we are taking the name of the apps and checking whether there is any influence of this variable on the number of installations."
   ]
  },
  {
   "cell_type": "code",
   "execution_count": 39,
   "metadata": {
    "execution": {
     "iopub.execute_input": "2021-06-06T21:43:00.862079Z",
     "iopub.status.busy": "2021-06-06T21:43:00.861806Z",
     "iopub.status.idle": "2021-06-06T21:43:01.046218Z",
     "shell.execute_reply": "2021-06-06T21:43:01.045422Z",
     "shell.execute_reply.started": "2021-06-06T21:43:00.862031Z"
    }
   },
   "outputs": [
    {
     "data": {
      "image/png": "[encoded data removed]",
      "text/plain": [
       "<matplotlib.figure.Figure at 0x7fccaa669c88>"
      ]
     },
     "metadata": {},
     "output_type": "display_data"
    }
   ],
   "source": [
    "googledata['Name_check']=['>2 words' if len(x.split())>2 else '<=2words' for x in googledata['App'] ]\n",
    "\n",
    "data_install= googledata.groupby('Name_check')['Install'].agg('sum').reset_index(name='Number_Installations')\n",
    "data_apps= googledata.groupby('Name_check').size().reset_index(name='Number_Apps')\n",
    "\n",
    "\n",
    "fig,axes = plt.subplots(figsize=(15,3),ncols=2, nrows=1)\n",
    "\n",
    "title=axes[0].set_title(\"No. of Installations\", y = 1.1)\n",
    "title=axes[1].set_title(\"No of Apps\", y = 1.1)\n",
    "\n",
    "plot1=sns.barplot( x=data_install['Name_check'],y=data_install['Number_Installations'] , ax=axes[0])\n",
    "\n",
    "plot2=sns.barplot( x=data_apps['Name_check'],y=data_apps['Number_Apps'] , ax=axes[1])\n",
    "\n",
    "plt.show(fig)\n"
   ]
  },
  {
   "cell_type": "code",
   "execution_count": 40,
   "metadata": {
    "execution": {
     "iopub.execute_input": "2021-06-06T21:43:01.386720Z",
     "iopub.status.busy": "2021-06-06T21:43:01.386444Z",
     "iopub.status.idle": "2021-06-06T21:43:01.492396Z",
     "shell.execute_reply": "2021-06-06T21:43:01.491584Z",
     "shell.execute_reply.started": "2021-06-06T21:43:01.386656Z"
    }
   },
   "outputs": [
    {
     "data": {
      "image/png": "[encoded data removed]",
      "text/plain": [
       "<matplotlib.figure.Figure at 0x7fccaa491ba8>"
      ]
     },
     "metadata": {},
     "output_type": "display_data"
    }
   ],
   "source": [
    "# No. of installation / No. of apps\n",
    "\n",
    "figure=plt.figure(figsize=(12,5))\n",
    "title=plt.title(\"Installations/Total Apps\", y = 1.0)\n",
    "plot3=sns.barplot( x=data_apps['Name_check'],y=data_install['Number_Installations']/data_apps['Number_Apps'] ,palette=sns.color_palette(palette=\"Set1\",n_colors=2,desat=.8))\n",
    "plt.show(figure)"
   ]
  },
  {
   "cell_type": "markdown",
   "metadata": {},
   "source": [
    "We can see a definite variations in the our plot. It can be inferred that users prefer apps with smaller names(2 words or lesser) over apps that have long tedious names. As a user myself, I cannot agree more on this."
   ]
  },
  {
   "cell_type": "markdown",
   "metadata": {},
   "source": [
    "Lastly, we are taking the Size variable and trying to find whether it has any profound effect on our target variable, Install. We have cleaned the Size variable but there still remains a String value in the column, 'Varies with device'. Hence we are creating a temporary dataframe with only the float values and using that to find the relation between Install and Size."
   ]
  },
  {
   "cell_type": "code",
   "execution_count": 41,
   "metadata": {
    "execution": {
     "iopub.execute_input": "2021-06-06T21:43:03.386560Z",
     "iopub.status.busy": "2021-06-06T21:43:03.386281Z",
     "iopub.status.idle": "2021-06-06T21:43:03.481728Z",
     "shell.execute_reply": "2021-06-06T21:43:03.480944Z",
     "shell.execute_reply.started": "2021-06-06T21:43:03.386510Z"
    }
   },
   "outputs": [
    {
     "data": {
      "text/html": [
       "<div>\n",
       "<style scoped>\n",
       "    .dataframe tbody tr th:only-of-type {\n",
       "        vertical-align: middle;\n",
       "    }\n",
       "\n",
       "    .dataframe tbody tr th {\n",
       "        vertical-align: top;\n",
       "    }\n",
       "\n",
       "    .dataframe thead th {\n",
       "        text-align: right;\n",
       "    }\n",
       "</style>\n",
       "<table border=\"1\" class=\"dataframe\">\n",
       "  <thead>\n",
       "    <tr style=\"text-align: right;\">\n",
       "      <th></th>\n",
       "      <th>Size</th>\n",
       "      <th>Install</th>\n",
       "    </tr>\n",
       "  </thead>\n",
       "  <tbody>\n",
       "    <tr>\n",
       "      <th>0</th>\n",
       "      <td>19.0</td>\n",
       "      <td>10000</td>\n",
       "    </tr>\n",
       "    <tr>\n",
       "      <th>1</th>\n",
       "      <td>14.0</td>\n",
       "      <td>500000</td>\n",
       "    </tr>\n",
       "    <tr>\n",
       "      <th>2</th>\n",
       "      <td>8.7</td>\n",
       "      <td>5000000</td>\n",
       "    </tr>\n",
       "    <tr>\n",
       "      <th>3</th>\n",
       "      <td>25.0</td>\n",
       "      <td>50000000</td>\n",
       "    </tr>\n",
       "    <tr>\n",
       "      <th>4</th>\n",
       "      <td>2.8</td>\n",
       "      <td>100000</td>\n",
       "    </tr>\n",
       "  </tbody>\n",
       "</table>\n",
       "</div>"
      ],
      "text/plain": [
       "   Size   Install\n",
       "0  19.0     10000\n",
       "1  14.0    500000\n",
       "2   8.7   5000000\n",
       "3  25.0  50000000\n",
       "4   2.8    100000"
      ]
     },
     "execution_count": 41,
     "metadata": {},
     "output_type": "execute_result"
    }
   ],
   "source": [
    "#Extracting the size variable and converting it into float data type\n",
    "googledata_num = googledata[googledata[\"Size\"]!='Varies with device']\n",
    "googledata_num[\"Size\"] = [float(x) if isinstance(x,float) else x for x in googledata_num[\"Size\"]]\n",
    "\n",
    "#creating new temporary data frame iwth just Install and Size variables.\n",
    "gdnum = pd.DataFrame()\n",
    "gdnum[\"Size\"] = googledata_num[\"Size\"]\n",
    "gdnum[\"Install\"] = googledata_num[\"Install\"]\n",
    "gdnum.head()"
   ]
  },
  {
   "cell_type": "code",
   "execution_count": 42,
   "metadata": {
    "execution": {
     "iopub.execute_input": "2021-06-06T21:43:56.933966Z",
     "iopub.status.busy": "2021-06-06T21:43:56.933639Z",
     "iopub.status.idle": "2021-06-06T21:43:57.370589Z",
     "shell.execute_reply": "2021-06-06T21:43:57.369818Z",
     "shell.execute_reply.started": "2021-06-06T21:43:56.933907Z"
    }
   },
   "outputs": [
    {
     "data": {
      "text/plain": [
       "<matplotlib.figure.Figure at 0x7fccaa3f4828>"
      ]
     },
     "execution_count": 42,
     "metadata": {},
     "output_type": "execute_result"
    },
    {
     "data": {
      "text/plain": [
       "<matplotlib.axes._subplots.AxesSubplot at 0x7fccaa5bf8d0>"
      ]
     },
     "execution_count": 42,
     "metadata": {},
     "output_type": "execute_result"
    },
    {
     "data": {
      "text/plain": [
       "(array([ 0,  1,  2,  3,  4,  5,  6,  7,  8,  9, 10, 11, 12, 13, 14, 15, 16,\n",
       "        17, 18, 19]), <a list of 20 Text xticklabel objects>)"
      ]
     },
     "execution_count": 42,
     "metadata": {},
     "output_type": "execute_result"
    },
    {
     "data": {
      "image/png": "[encoded data removed]",
      "text/plain": [
       "<matplotlib.figure.Figure at 0x7fccaa3f4828>"
      ]
     },
     "metadata": {},
     "output_type": "display_data"
    }
   ],
   "source": [
    "# Using violin plot to plot the relation \n",
    "plt.figure(figsize=(20,10))\n",
    "sns.violinplot(x=gdnum.Install, y=gdnum.Size)\n",
    "plt.xticks(rotation = 90)"
   ]
  },
  {
   "cell_type": "markdown",
   "metadata": {},
   "source": [
    "We can see from the plot that there is a profound impact by the size of the app on the number of installations. \n",
    "\n",
    "- The tiny white circle in middle of each plot shows the median value of each value of installations. Across the plot, we can see the median grows steadliy higher.\n",
    "- It is found that at the lower end of the Install axis, there is a higher number of outliers with respect to the size of the apps. \n",
    "- As we progress across the Install axis, the number of outliers decreases and the number if installations increases\n",
    "- As the number of installations reaches the maximum value, we see that the app size has reached the lowest values, peaking at posiibly, 100 -110 MB.\n",
    "\n",
    "From this we can safely predict that bigger the app, lesser the chance for it to be installed"
   ]
  },
  {
   "cell_type": "markdown",
   "metadata": {},
   "source": [
    "## Conclusion\n",
    "\n",
    "We have reached the end of our EDA on the Google Playstore dataset. Taking number of isntallationsa s our dataset, we have found out the following infereneces:\n",
    "\n",
    "- Ratings have an effect on our target variable. The higher the rating, more people will be inclined to download the app.\n",
    "- Similarly, the better the Reviews, more are the chances for the app to be downloaded by more people.\n",
    "- Apps with shorter names, preferably less than 3 words in name, have a hugher chance of being downloaded by the general public.\n",
    "- People are always inclined to download apps that are free of cost.\n",
    "- Apps coming under the content Rating, Everyone, Teens and Everyone 10+ has the highest chance to be downloaded. For prospective app developers and publishers, it will be worthwhile to download apps falling under these Content Rating.\n",
    "- The apps with smaller sizes have more chance to be downloaded.\n",
    "- Subway surfer is the most downloaded app followed by Instagram and Google Drive\n",
    "- 92.6% of the apps in the app store are free."
   ]
  }
 ],
 "metadata": {
  "kernelspec": {
   "display_name": "Python 3",
   "language": "python",
   "name": "python3"
  },
  "language_info": {
   "codemirror_mode": {
    "name": "ipython",
    "version": 3
   },
   "file_extension": ".py",
   "mimetype": "text/x-python",
   "name": "python",
   "nbconvert_exporter": "python",
   "pygments_lexer": "ipython3",
   "version": "3.6.4"
  }
 },
 "nbformat": 4,
 "nbformat_minor": 4
}
